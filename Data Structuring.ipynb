{
 "cells": [
  {
   "cell_type": "code",
   "execution_count": 3,
   "id": "3985daaf",
   "metadata": {},
   "outputs": [],
   "source": [
    "import openai\n",
    "import pandas as pd\n",
    "import seaborn as sns\n",
    "import time\n",
    "import os\n",
    "\n",
    "# Set OpenAI API key\n",
    "openai.api_key = os.getenv(\"OPENAI_API_KEY\")"
   ]
  },
  {
   "cell_type": "code",
   "execution_count": 19,
   "id": "b19fb9f1",
   "metadata": {},
   "outputs": [],
   "source": [
    "## access the posts csvs\n",
    "post_list_1 = pd.read_csv(r'data\\refused_post_list.csv').Text.tolist()\n",
    "post_list_2 = pd.read_csv(r'data\\approved_post_list.csv').Text.tolist()\n",
    "post_list_3 = pd.read_csv(r'data\\refused_post_list.csv').Text.tolist()\n",
    "post_list_4 = pd.read_csv(r'data\\rejected_post_list.csv').Text.tolist()\n",
    "post_list = post_list_1 + post_list_2 + post_list_3 + post_list_4"
   ]
  },
  {
   "cell_type": "code",
   "execution_count": 20,
   "id": "b3eb4181",
   "metadata": {},
   "outputs": [],
   "source": [
    "pd.DataFrame(post_list).to_csv(r\"data\\all_posts_new.csv\")"
   ]
  },
  {
   "cell_type": "code",
   "execution_count": 21,
   "id": "e86930fe",
   "metadata": {},
   "outputs": [],
   "source": [
    "### remove posts that are too short or too long\n",
    "\n",
    "for post in post_list:\n",
    "        if len(post) < 250 or len(post) > 5000:\n",
    "            post_list.remove(post)"
   ]
  },
  {
   "cell_type": "code",
   "execution_count": 26,
   "id": "9d2c31cb",
   "metadata": {},
   "outputs": [
    {
     "name": "stdout",
     "output_type": "stream",
     "text": [
      "CPU times: total: 281 ms\n",
      "Wall time: 31min 46s\n"
     ]
    }
   ],
   "source": [
    "%%time\n",
    "messages = []\n",
    "responses = []\n",
    "disclaimer = \"One word answers only. Answer in the following format. Program: Degree Level: Univsersity: Sponsor: Scholarship: Relatives: Visa Attempt: Visa Result:\"  \n",
    "system_message = \"You are a keyword extractor! Your job is to answer in the following question, strictly speaking, in only one word: What program is applicant applying for? What degree level is he applying or, bachelors, masters or phd? Which university is he applying visa to? Who is sponsoring the applicant? Did he recieve any scholarship? Did he had any relatives in US? How many visa attempts he has had(if not mentioned, it's first)? Was his visa approved or refused? If not applicable, say 'N/A' Program: Degree Level: University: Sponsor: Scholarship: Relatives: Visa Attempts: Visa Status:\"\n",
    "sample_question = \"Visa interview Islamabad Texas A&M university 5th Aug: 11:30am Vo: Hello Me:hello sir  Vo: i need u to do your finger prints. (Messed up with left hand once) Me:done Vo: alright pass me those documents. Me: here Vo: so why are you going to the Us? Me: I'm going to pursue my bachelor's degree in health sciences at texas a&m university. Vo: how many universities did you apply to? Me: about 13 universities, I got accepted from a few. Vo: and which ones did u get accepted from? Me: i got accepted from the university of Hartford, texas a&m and university of---uh and I had a correspondence with the Baylor university. Vo: ok, so why did you choose this university? Me: well it has quite good ranking regarding my course, its listed as the 28th best medical university in terms of health care management and in biological scien--- Vo: alright so do you have any relatives in the Us? Me: Yes, an uncle of mine lives there with his family. Vo: where do they live? Me: Irving (accident said the old address) Vo: California?-- what state? Me: no not California, its in Dallas at Texas. Vo: alright and what does he do? Me: his work is associated with transport but I don't really know much about that. Vo: oh okay, so whose going to sponsor you? Me: my father will Vo: and what does he do? Me: told Vo: (going though my docs) have you ever been to the Us before? Me: yes, twice Vo: okay. (Keeps typing and looking through stuff for about a minute or two). Vo: alright, I'm approving your visa, but we'll be keeping your passport for further processing. You will receive it within 1-2weeks. There were some 30 candidates I saw that day and out of them only 2 girls & me myself got approved. One common thing between me and one of those girls was that we both had been to the Us before. Me twice for visiting and her for her bachelors(now going for masters I believe).\"\n",
    "sample_answer = \"Program: Health Sciences Degree Level: Bachelors University: Texas A&M University Sponsor: Father Scholarship: N/A Relatives: Uncle Visa Attempts: First Visa Result: Approved\"\n",
    "\n",
    "for i in range(0, len(filtered_list)):\n",
    "    time.sleep(3)\n",
    "    completion = openai.ChatCompletion.create(\n",
    "      model=\"gpt-3.5-turbo\", # this is \"ChatGPT\" $0.002 per 1k tokens\n",
    "      messages=[{\"role\": \"system\", \"content\": system_message},\n",
    "                {\"role\": \"user\", \"content\": sample_question},\n",
    "                {\"role\": \"assistant\", \"content\": sample_answer},\n",
    "               {\"role\": \"user\", \"content\": disclaimer + filtered_list[i]}],\n",
    "        temperature = 0\n",
    "    )\n",
    "    responses.append(completion.choices[0].message.content)"
   ]
  },
  {
   "cell_type": "code",
   "execution_count": 27,
   "id": "06694f45",
   "metadata": {},
   "outputs": [
    {
     "name": "stdout",
     "output_type": "stream",
     "text": [
      "The number of data we have is : 373\n"
     ]
    }
   ],
   "source": [
    "print(f\"The number of data we have is : {len(responses)}\")"
   ]
  },
  {
   "cell_type": "code",
   "execution_count": 28,
   "id": "e5c61e0a",
   "metadata": {},
   "outputs": [
    {
     "name": "stdout",
     "output_type": "stream",
     "text": [
      "Skipping Response Number: 9 *** Response: Program: N/A\n",
      "Degree Level: N/A...\n",
      "Skipping Response Number: 23 *** Response: Program: MS Finance Degree Lev...\n",
      "Skipping Response Number: 24 *** Response: Program: Civil Engineering Deg...\n",
      "Skipping Response Number: 25 *** Response: Program: Environmental Health ...\n",
      "Skipping Response Number: 58 *** Response: N/A...\n",
      "Skipping Response Number: 66 *** Response: Program: Information Systems D...\n",
      "Skipping Response Number: 75 *** Response: Program: Business Degree Level...\n",
      "Skipping Response Number: 90 *** Response: N/A...\n",
      "Skipping Response Number: 117 *** Response: Program: Medical Degree Level:...\n",
      "Skipping Response Number: 125 *** Response: Program: Criminology Degree Le...\n",
      "Skipping Response Number: 168 *** Response: Program: Business Analytics De...\n",
      "Skipping Response Number: 169 *** Response: Program: PhD Degree Level: PhD...\n",
      "Skipping Response Number: 170 *** Response: Program: MBA Degree Level: Mas...\n",
      "Skipping Response Number: 173 *** Response: Program: Career Counseling Deg...\n",
      "Skipping Response Number: 181 *** Response: Program: Electrical and Comput...\n",
      "Skipping Response Number: 197 *** Response: Program: N/A\n",
      "Degree Level: N/A...\n",
      "Skipping Response Number: 211 *** Response: Program: MS Finance Degree Lev...\n",
      "Skipping Response Number: 212 *** Response: Program: Civil Engineering Deg...\n",
      "Skipping Response Number: 213 *** Response: Program: Environmental Health ...\n",
      "Skipping Response Number: 246 *** Response: N/A...\n",
      "Skipping Response Number: 254 *** Response: Program: Information Systems D...\n",
      "Skipping Response Number: 278 *** Response: N/A...\n",
      "Skipping Response Number: 283 *** Response: Program: Computer Science Degr...\n",
      "Skipping Response Number: 287 *** Response: N/A...\n",
      "Skipping Response Number: 293 *** Response: Program: BSCS Degree Level: Ma...\n",
      "Skipping Response Number: 311 *** Response: Program: International Busines...\n",
      "Skipping Response Number: 314 *** Response: Program: Master in IS Degree L...\n",
      "Skipping Response Number: 322 *** Response: Program: Artificial Intelligen...\n",
      "Skipping Response Number: 323 *** Response: Program: MBA Degree Level: N/A...\n",
      "Skipping Response Number: 327 *** Response: N/A...\n",
      "Skipping Response Number: 341 *** Response: Question 1: N/A\n",
      "Question 2: Wa...\n",
      "Skipping Response Number: 358 *** Response: 1st Attempt: \n",
      "Program: N/A \n",
      "De...\n",
      "Skipping Response Number: 367 *** Response: N/A...\n"
     ]
    }
   ],
   "source": [
    "str(responses[0].split(\": \")[3]).replace(\"Sponsor\", \"\").strip()\n",
    "columns = [\"Program\", \"Degree Level\", \"University\", \"Sponsor\", \"Scholarship\", \"Relatives\", \"Visa Attempt\", \"Visa Result\", \"Id\"]\n",
    "\n",
    "final_data = []\n",
    "for i in range(len(responses)):\n",
    "    values = str(responses[i]).split(\": \")\n",
    "    if len(values) != len(columns):\n",
    "        print(f\"Skipping Response Number: {i+1} *** Response: {responses[i][0:30]}...\")\n",
    "        continue\n",
    "    data_dict = {}\n",
    "    for j in range(0, len(columns)):\n",
    "        key = columns[j-1]\n",
    "        value = values[j].replace(columns[j], \"\").strip()\n",
    "        data_dict[key] = value\n",
    "\n",
    "    final_data.append(data_dict)\n",
    "    "
   ]
  },
  {
   "cell_type": "code",
   "execution_count": 31,
   "id": "deaa4f81",
   "metadata": {},
   "outputs": [
    {
     "data": {
      "text/html": [
       "<div>\n",
       "<style scoped>\n",
       "    .dataframe tbody tr th:only-of-type {\n",
       "        vertical-align: middle;\n",
       "    }\n",
       "\n",
       "    .dataframe tbody tr th {\n",
       "        vertical-align: top;\n",
       "    }\n",
       "\n",
       "    .dataframe thead th {\n",
       "        text-align: right;\n",
       "    }\n",
       "</style>\n",
       "<table border=\"1\" class=\"dataframe\">\n",
       "  <thead>\n",
       "    <tr style=\"text-align: right;\">\n",
       "      <th></th>\n",
       "      <th>Id</th>\n",
       "      <th>Program</th>\n",
       "      <th>Degree Level</th>\n",
       "      <th>University</th>\n",
       "      <th>Sponsor</th>\n",
       "      <th>Scholarship</th>\n",
       "      <th>Relatives</th>\n",
       "      <th>Visa Attempt</th>\n",
       "      <th>Visa Result</th>\n",
       "    </tr>\n",
       "  </thead>\n",
       "  <tbody>\n",
       "    <tr>\n",
       "      <th>0</th>\n",
       "      <td></td>\n",
       "      <td>Criminal Justice</td>\n",
       "      <td>N/A</td>\n",
       "      <td>Western Michigan University</td>\n",
       "      <td>Uncle</td>\n",
       "      <td>N/A</td>\n",
       "      <td>Uncle</td>\n",
       "      <td>Second</td>\n",
       "      <td>Refused</td>\n",
       "    </tr>\n",
       "    <tr>\n",
       "      <th>1</th>\n",
       "      <td></td>\n",
       "      <td>N/A</td>\n",
       "      <td>N/A</td>\n",
       "      <td>N/A</td>\n",
       "      <td>N/A</td>\n",
       "      <td>N/A</td>\n",
       "      <td>N/A</td>\n",
       "      <td>Second (Refusal Category)</td>\n",
       "      <td>N/A</td>\n",
       "    </tr>\n",
       "    <tr>\n",
       "      <th>2</th>\n",
       "      <td></td>\n",
       "      <td>N/A</td>\n",
       "      <td>N/A</td>\n",
       "      <td>DePaul University</td>\n",
       "      <td>Father</td>\n",
       "      <td>Yes</td>\n",
       "      <td>N/A</td>\n",
       "      <td>Refused</td>\n",
       "      <td>N/A</td>\n",
       "    </tr>\n",
       "    <tr>\n",
       "      <th>3</th>\n",
       "      <td></td>\n",
       "      <td>PhD in Physics</td>\n",
       "      <td>PhD</td>\n",
       "      <td>Purdue University</td>\n",
       "      <td>N/A</td>\n",
       "      <td>Fully funded</td>\n",
       "      <td>No</td>\n",
       "      <td>First</td>\n",
       "      <td>Refused</td>\n",
       "    </tr>\n",
       "    <tr>\n",
       "      <th>4</th>\n",
       "      <td></td>\n",
       "      <td>Cyber Security</td>\n",
       "      <td>Masters</td>\n",
       "      <td>UD</td>\n",
       "      <td>Uncle</td>\n",
       "      <td>N/A</td>\n",
       "      <td>Uncle</td>\n",
       "      <td>First</td>\n",
       "      <td>Refused</td>\n",
       "    </tr>\n",
       "  </tbody>\n",
       "</table>\n",
       "</div>"
      ],
      "text/plain": [
       "  Id           Program Degree Level                   University Sponsor  \\\n",
       "0     Criminal Justice          N/A  Western Michigan University   Uncle   \n",
       "1                  N/A          N/A                          N/A     N/A   \n",
       "2                  N/A          N/A            DePaul University  Father   \n",
       "3       PhD in Physics          PhD            Purdue University     N/A   \n",
       "4       Cyber Security      Masters                           UD   Uncle   \n",
       "\n",
       "    Scholarship Relatives               Visa Attempt Visa Result  \n",
       "0           N/A     Uncle                     Second     Refused  \n",
       "1           N/A       N/A  Second (Refusal Category)         N/A  \n",
       "2           Yes       N/A                    Refused         N/A  \n",
       "3  Fully funded        No                      First     Refused  \n",
       "4           N/A     Uncle                      First     Refused  "
      ]
     },
     "execution_count": 31,
     "metadata": {},
     "output_type": "execute_result"
    }
   ],
   "source": [
    "# Create a pandas DataFrame with the extracted data\n",
    "df = pd.DataFrame(final_data)\n",
    "df.head()"
   ]
  },
  {
   "cell_type": "code",
   "execution_count": 30,
   "id": "cca785ea",
   "metadata": {},
   "outputs": [],
   "source": [
    "### Saving the data\n",
    "df.to_csv(r\"data\\training_data_new.csv\")"
   ]
  }
 ],
 "metadata": {
  "kernelspec": {
   "display_name": "LLMs",
   "language": "python",
   "name": "llms"
  },
  "language_info": {
   "codemirror_mode": {
    "name": "ipython",
    "version": 3
   },
   "file_extension": ".py",
   "mimetype": "text/x-python",
   "name": "python",
   "nbconvert_exporter": "python",
   "pygments_lexer": "ipython3",
   "version": "3.9.16"
  }
 },
 "nbformat": 4,
 "nbformat_minor": 5
}
