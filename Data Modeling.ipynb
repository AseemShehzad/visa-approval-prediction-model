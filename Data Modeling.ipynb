{
 "cells": [
  {
   "cell_type": "markdown",
   "id": "a0e220fd",
   "metadata": {},
   "source": [
    "# Prediction of Student Visa!\n",
    "\n"
   ]
  },
  {
   "attachments": {},
   "cell_type": "markdown",
   "id": "997dde59",
   "metadata": {},
   "source": [
    "## Loading and Standardizing Data"
   ]
  },
  {
   "cell_type": "markdown",
   "id": "c7514769",
   "metadata": {},
   "source": [
    "In this notebook we will perform the following functions:\n",
    "* Import Data\n",
    "* Add Ranking of Universities\n",
    "** importing ranking database and cleaning it\n",
    "** creating a search_and_replace function\n",
    "** applying search_and_replace function to find the rankings of our training_data universities\n",
    "** add columns 'Matched_University' and 'Rank' in the training_data\n",
    "* Dropping Extra Columns\n",
    "* Handle Missing Values"
   ]
  },
  {
   "cell_type": "code",
   "execution_count": 46,
   "id": "5f14976f",
   "metadata": {},
   "outputs": [],
   "source": [
    "import pandas as pd\n",
    "import time\n",
    "import seaborn as sns\n",
    "import numpy as np\n",
    "import matplotlib.pyplot as plt\n",
    "import requests\n",
    "import pickle"
   ]
  },
  {
   "cell_type": "markdown",
   "id": "739089f9",
   "metadata": {},
   "source": [
    "First, we read the csv of the training data from the drive and then organize"
   ]
  },
  {
   "cell_type": "code",
   "execution_count": 47,
   "id": "a8bb09e9",
   "metadata": {},
   "outputs": [
    {
     "name": "stdout",
     "output_type": "stream",
     "text": [
      "(673, 10)\n"
     ]
    },
    {
     "data": {
      "text/html": [
       "<div>\n",
       "<style scoped>\n",
       "    .dataframe tbody tr th:only-of-type {\n",
       "        vertical-align: middle;\n",
       "    }\n",
       "\n",
       "    .dataframe tbody tr th {\n",
       "        vertical-align: top;\n",
       "    }\n",
       "\n",
       "    .dataframe thead th {\n",
       "        text-align: right;\n",
       "    }\n",
       "</style>\n",
       "<table border=\"1\" class=\"dataframe\">\n",
       "  <thead>\n",
       "    <tr style=\"text-align: right;\">\n",
       "      <th></th>\n",
       "      <th>Unnamed: 0</th>\n",
       "      <th>Id</th>\n",
       "      <th>Program</th>\n",
       "      <th>Degree Level</th>\n",
       "      <th>University</th>\n",
       "      <th>Sponsor</th>\n",
       "      <th>Scholarship</th>\n",
       "      <th>Relatives</th>\n",
       "      <th>Visa Attempt</th>\n",
       "      <th>Visa Result</th>\n",
       "    </tr>\n",
       "  </thead>\n",
       "  <tbody>\n",
       "    <tr>\n",
       "      <th>0</th>\n",
       "      <td>0</td>\n",
       "      <td>NaN</td>\n",
       "      <td>Criminal Justice</td>\n",
       "      <td>NaN</td>\n",
       "      <td>Western Michigan University</td>\n",
       "      <td>Uncle</td>\n",
       "      <td>NaN</td>\n",
       "      <td>Uncle</td>\n",
       "      <td>Second</td>\n",
       "      <td>Refused</td>\n",
       "    </tr>\n",
       "    <tr>\n",
       "      <th>1</th>\n",
       "      <td>1</td>\n",
       "      <td>NaN</td>\n",
       "      <td>NaN</td>\n",
       "      <td>NaN</td>\n",
       "      <td>NaN</td>\n",
       "      <td>NaN</td>\n",
       "      <td>NaN</td>\n",
       "      <td>NaN</td>\n",
       "      <td>Second (Refusal Category)</td>\n",
       "      <td>NaN</td>\n",
       "    </tr>\n",
       "    <tr>\n",
       "      <th>2</th>\n",
       "      <td>2</td>\n",
       "      <td>NaN</td>\n",
       "      <td>NaN</td>\n",
       "      <td>NaN</td>\n",
       "      <td>DePaul University</td>\n",
       "      <td>Father</td>\n",
       "      <td>Yes</td>\n",
       "      <td>NaN</td>\n",
       "      <td>Refused</td>\n",
       "      <td>NaN</td>\n",
       "    </tr>\n",
       "    <tr>\n",
       "      <th>3</th>\n",
       "      <td>3</td>\n",
       "      <td>NaN</td>\n",
       "      <td>PhD in Physics</td>\n",
       "      <td>PhD</td>\n",
       "      <td>Purdue University</td>\n",
       "      <td>NaN</td>\n",
       "      <td>Fully funded</td>\n",
       "      <td>No</td>\n",
       "      <td>First</td>\n",
       "      <td>Refused</td>\n",
       "    </tr>\n",
       "    <tr>\n",
       "      <th>4</th>\n",
       "      <td>4</td>\n",
       "      <td>NaN</td>\n",
       "      <td>Cyber Security</td>\n",
       "      <td>Masters</td>\n",
       "      <td>UD</td>\n",
       "      <td>Uncle</td>\n",
       "      <td>NaN</td>\n",
       "      <td>Uncle</td>\n",
       "      <td>First</td>\n",
       "      <td>Refused</td>\n",
       "    </tr>\n",
       "  </tbody>\n",
       "</table>\n",
       "</div>"
      ],
      "text/plain": [
       "   Unnamed: 0   Id           Program Degree Level  \\\n",
       "0           0  NaN  Criminal Justice          NaN   \n",
       "1           1  NaN               NaN          NaN   \n",
       "2           2  NaN               NaN          NaN   \n",
       "3           3  NaN    PhD in Physics          PhD   \n",
       "4           4  NaN    Cyber Security      Masters   \n",
       "\n",
       "                    University Sponsor   Scholarship Relatives  \\\n",
       "0  Western Michigan University   Uncle           NaN     Uncle   \n",
       "1                          NaN     NaN           NaN       NaN   \n",
       "2            DePaul University  Father           Yes       NaN   \n",
       "3            Purdue University     NaN  Fully funded        No   \n",
       "4                           UD   Uncle           NaN     Uncle   \n",
       "\n",
       "                Visa Attempt Visa Result  \n",
       "0                     Second     Refused  \n",
       "1  Second (Refusal Category)         NaN  \n",
       "2                    Refused         NaN  \n",
       "3                      First     Refused  \n",
       "4                      First     Refused  "
      ]
     },
     "execution_count": 47,
     "metadata": {},
     "output_type": "execute_result"
    }
   ],
   "source": [
    "df1 = pd.read_csv(r\"data\\training_data_new.csv\")\n",
    "df2 = pd.read_csv(r\"data\\training_data_visa.csv\")\n",
    "training_data = pd.concat([df1, df2], ignore_index=True)\n",
    "\n",
    "### Dropping duplicates\n",
    "training_data.drop_duplicates(inplace=True)\n",
    "\n",
    "print(training_data.shape)\n",
    "training_data.head()"
   ]
  },
  {
   "cell_type": "code",
   "execution_count": 48,
   "id": "3b28c4fb",
   "metadata": {},
   "outputs": [],
   "source": [
    "training_data.drop(['Unnamed: 0', \"Id\"], axis=1, inplace=True)\n",
    "training_data['Id'] = training_data.index"
   ]
  },
  {
   "cell_type": "markdown",
   "id": "e4b2d2ce",
   "metadata": {},
   "source": [
    "We have names of the universities. We can get the ranking of the university from internet and add it as a feature. An excel file was downloaded from the qs.com website which contains the university names and rankings.\n",
    "Now, our job is to get the ranking of each university in our training data list and add a university ranking column in our dataset."
   ]
  },
  {
   "cell_type": "code",
   "execution_count": 49,
   "id": "73c20ab3",
   "metadata": {},
   "outputs": [],
   "source": [
    "### import the ranking database ###\n",
    "\n",
    "uni_data_dw = pd.read_csv(r\"C:\\Users\\aseem\\Jupyter_Notebook\\Visa Prediction Model\\data\\National Universities Rankings.csv\", encoding='ANSI')"
   ]
  },
  {
   "cell_type": "code",
   "execution_count": 50,
   "id": "5462601c",
   "metadata": {},
   "outputs": [],
   "source": [
    "### Create a data with only university name and its rank ###\n",
    "\n",
    "unis = uni_data_dw['Name']\n",
    "ranks = uni_data_dw['Rank']\n",
    "\n",
    "uni_ranks = pd.DataFrame({'University': unis, 'Rank': ranks})"
   ]
  },
  {
   "attachments": {},
   "cell_type": "markdown",
   "id": "7e9b9135",
   "metadata": {},
   "source": [
    "#### University Ranking Search Engine"
   ]
  },
  {
   "cell_type": "code",
   "execution_count": 51,
   "id": "63cc7ec9",
   "metadata": {},
   "outputs": [],
   "source": [
    "from utils import find_ranks"
   ]
  },
  {
   "cell_type": "code",
   "execution_count": 52,
   "id": "f298416a",
   "metadata": {},
   "outputs": [
    {
     "name": "stdout",
     "output_type": "stream",
     "text": [
      "The matched university and rank for name 'cincinnati university'  is ('University of Cincinnati', 142)\n"
     ]
    }
   ],
   "source": [
    "### test implementation of above function ###\n",
    "uni_rank, rank, query = find_ranks('cincinnati university', uni_ranks, 'University', 'Rank')\n",
    "print(f\"The matched university and rank for name 'cincinnati university'  is {query, rank}\")"
   ]
  },
  {
   "cell_type": "markdown",
   "id": "6848f172",
   "metadata": {},
   "source": [
    "To search the university names from the ranking csv, it requires to have 'university' in the university name for the search function to pick up the uiversity name."
   ]
  },
  {
   "cell_type": "code",
   "execution_count": 53,
   "id": "5f247f94",
   "metadata": {},
   "outputs": [],
   "source": [
    "### Adding \"University\" to the university name if institute or university is not found ###\n",
    "\n",
    "upd_uni = []\n",
    "for university in training_data['University']:\n",
    "    if isinstance(university, str):\n",
    "        if not any(\"university\" in word or \"institute\" in word or \"college\" in word for word in university.lower().split()):\n",
    "            upd_uni.append(university + \" University\")\n",
    "        else:\n",
    "            upd_uni.append(university)\n",
    "    else:\n",
    "        upd_uni.append(\"N/A\")\n",
    "\n",
    "training_data['University'] = upd_uni"
   ]
  },
  {
   "cell_type": "code",
   "execution_count": 54,
   "id": "9e1672b9",
   "metadata": {},
   "outputs": [
    {
     "data": {
      "text/html": [
       "<div>\n",
       "<style scoped>\n",
       "    .dataframe tbody tr th:only-of-type {\n",
       "        vertical-align: middle;\n",
       "    }\n",
       "\n",
       "    .dataframe tbody tr th {\n",
       "        vertical-align: top;\n",
       "    }\n",
       "\n",
       "    .dataframe thead th {\n",
       "        text-align: right;\n",
       "    }\n",
       "</style>\n",
       "<table border=\"1\" class=\"dataframe\">\n",
       "  <thead>\n",
       "    <tr style=\"text-align: right;\">\n",
       "      <th></th>\n",
       "      <th>Program</th>\n",
       "      <th>Degree Level</th>\n",
       "      <th>University</th>\n",
       "      <th>Sponsor</th>\n",
       "      <th>Scholarship</th>\n",
       "      <th>Relatives</th>\n",
       "      <th>Visa Attempt</th>\n",
       "      <th>Visa Result</th>\n",
       "      <th>Id</th>\n",
       "    </tr>\n",
       "  </thead>\n",
       "  <tbody>\n",
       "    <tr>\n",
       "      <th>0</th>\n",
       "      <td>Criminal Justice</td>\n",
       "      <td>NaN</td>\n",
       "      <td>Western Michigan University</td>\n",
       "      <td>Uncle</td>\n",
       "      <td>NaN</td>\n",
       "      <td>Uncle</td>\n",
       "      <td>Second</td>\n",
       "      <td>Refused</td>\n",
       "      <td>0</td>\n",
       "    </tr>\n",
       "    <tr>\n",
       "      <th>1</th>\n",
       "      <td>NaN</td>\n",
       "      <td>NaN</td>\n",
       "      <td>N/A</td>\n",
       "      <td>NaN</td>\n",
       "      <td>NaN</td>\n",
       "      <td>NaN</td>\n",
       "      <td>Second (Refusal Category)</td>\n",
       "      <td>NaN</td>\n",
       "      <td>1</td>\n",
       "    </tr>\n",
       "    <tr>\n",
       "      <th>2</th>\n",
       "      <td>NaN</td>\n",
       "      <td>NaN</td>\n",
       "      <td>DePaul University</td>\n",
       "      <td>Father</td>\n",
       "      <td>Yes</td>\n",
       "      <td>NaN</td>\n",
       "      <td>Refused</td>\n",
       "      <td>NaN</td>\n",
       "      <td>2</td>\n",
       "    </tr>\n",
       "    <tr>\n",
       "      <th>3</th>\n",
       "      <td>PhD in Physics</td>\n",
       "      <td>PhD</td>\n",
       "      <td>Purdue University</td>\n",
       "      <td>NaN</td>\n",
       "      <td>Fully funded</td>\n",
       "      <td>No</td>\n",
       "      <td>First</td>\n",
       "      <td>Refused</td>\n",
       "      <td>3</td>\n",
       "    </tr>\n",
       "    <tr>\n",
       "      <th>4</th>\n",
       "      <td>Cyber Security</td>\n",
       "      <td>Masters</td>\n",
       "      <td>UD University</td>\n",
       "      <td>Uncle</td>\n",
       "      <td>NaN</td>\n",
       "      <td>Uncle</td>\n",
       "      <td>First</td>\n",
       "      <td>Refused</td>\n",
       "      <td>4</td>\n",
       "    </tr>\n",
       "  </tbody>\n",
       "</table>\n",
       "</div>"
      ],
      "text/plain": [
       "            Program Degree Level                   University Sponsor  \\\n",
       "0  Criminal Justice          NaN  Western Michigan University   Uncle   \n",
       "1               NaN          NaN                          N/A     NaN   \n",
       "2               NaN          NaN            DePaul University  Father   \n",
       "3    PhD in Physics          PhD            Purdue University     NaN   \n",
       "4    Cyber Security      Masters                UD University   Uncle   \n",
       "\n",
       "    Scholarship Relatives               Visa Attempt Visa Result  Id  \n",
       "0           NaN     Uncle                     Second     Refused   0  \n",
       "1           NaN       NaN  Second (Refusal Category)         NaN   1  \n",
       "2           Yes       NaN                    Refused         NaN   2  \n",
       "3  Fully funded        No                      First     Refused   3  \n",
       "4           NaN     Uncle                      First     Refused   4  "
      ]
     },
     "execution_count": 54,
     "metadata": {},
     "output_type": "execute_result"
    }
   ],
   "source": [
    "training_data.head(5)"
   ]
  },
  {
   "cell_type": "markdown",
   "id": "4cb27b5b",
   "metadata": {},
   "source": [
    "Now we can see \"Harvard University\" instead of \"Harvard\"."
   ]
  },
  {
   "cell_type": "code",
   "execution_count": 55,
   "id": "a0c91e02",
   "metadata": {},
   "outputs": [],
   "source": [
    "### Search for the university name in the ranking database ###\n",
    "\n",
    "found_ranks = []\n",
    "found_uni_names = []\n",
    "for university in training_data['University']:\n",
    "    uni_rank, rank, query = find_ranks(university, uni_ranks, 'University', 'Rank')\n",
    "    found_ranks.append(rank)\n",
    "    found_uni_names.append(query)"
   ]
  },
  {
   "cell_type": "code",
   "execution_count": 56,
   "id": "fb1577f1",
   "metadata": {},
   "outputs": [
    {
     "data": {
      "text/html": [
       "<div>\n",
       "<style scoped>\n",
       "    .dataframe tbody tr th:only-of-type {\n",
       "        vertical-align: middle;\n",
       "    }\n",
       "\n",
       "    .dataframe tbody tr th {\n",
       "        vertical-align: top;\n",
       "    }\n",
       "\n",
       "    .dataframe thead th {\n",
       "        text-align: right;\n",
       "    }\n",
       "</style>\n",
       "<table border=\"1\" class=\"dataframe\">\n",
       "  <thead>\n",
       "    <tr style=\"text-align: right;\">\n",
       "      <th></th>\n",
       "      <th>Program</th>\n",
       "      <th>Degree Level</th>\n",
       "      <th>University</th>\n",
       "      <th>Sponsor</th>\n",
       "      <th>Scholarship</th>\n",
       "      <th>Relatives</th>\n",
       "      <th>Visa Attempt</th>\n",
       "      <th>Visa Result</th>\n",
       "      <th>Id</th>\n",
       "      <th>Matched_University</th>\n",
       "      <th>Rank</th>\n",
       "    </tr>\n",
       "  </thead>\n",
       "  <tbody>\n",
       "    <tr>\n",
       "      <th>0</th>\n",
       "      <td>Criminal Justice</td>\n",
       "      <td>NaN</td>\n",
       "      <td>Western Michigan University</td>\n",
       "      <td>Uncle</td>\n",
       "      <td>NaN</td>\n",
       "      <td>Uncle</td>\n",
       "      <td>Second</td>\n",
       "      <td>Refused</td>\n",
       "      <td>0</td>\n",
       "      <td>Western Michigan University</td>\n",
       "      <td>199</td>\n",
       "    </tr>\n",
       "    <tr>\n",
       "      <th>1</th>\n",
       "      <td>NaN</td>\n",
       "      <td>NaN</td>\n",
       "      <td>N/A</td>\n",
       "      <td>NaN</td>\n",
       "      <td>NaN</td>\n",
       "      <td>NaN</td>\n",
       "      <td>Second (Refusal Category)</td>\n",
       "      <td>NaN</td>\n",
       "      <td>1</td>\n",
       "      <td>N/A</td>\n",
       "      <td>N/A</td>\n",
       "    </tr>\n",
       "    <tr>\n",
       "      <th>2</th>\n",
       "      <td>NaN</td>\n",
       "      <td>NaN</td>\n",
       "      <td>DePaul University</td>\n",
       "      <td>Father</td>\n",
       "      <td>Yes</td>\n",
       "      <td>NaN</td>\n",
       "      <td>Refused</td>\n",
       "      <td>NaN</td>\n",
       "      <td>2</td>\n",
       "      <td>DePaul University</td>\n",
       "      <td>126</td>\n",
       "    </tr>\n",
       "    <tr>\n",
       "      <th>3</th>\n",
       "      <td>PhD in Physics</td>\n",
       "      <td>PhD</td>\n",
       "      <td>Purdue University</td>\n",
       "      <td>NaN</td>\n",
       "      <td>Fully funded</td>\n",
       "      <td>No</td>\n",
       "      <td>First</td>\n",
       "      <td>Refused</td>\n",
       "      <td>3</td>\n",
       "      <td>Purdue University</td>\n",
       "      <td>60</td>\n",
       "    </tr>\n",
       "    <tr>\n",
       "      <th>4</th>\n",
       "      <td>Cyber Security</td>\n",
       "      <td>Masters</td>\n",
       "      <td>UD University</td>\n",
       "      <td>Uncle</td>\n",
       "      <td>NaN</td>\n",
       "      <td>Uncle</td>\n",
       "      <td>First</td>\n",
       "      <td>Refused</td>\n",
       "      <td>4</td>\n",
       "      <td>UD University</td>\n",
       "      <td>112</td>\n",
       "    </tr>\n",
       "  </tbody>\n",
       "</table>\n",
       "</div>"
      ],
      "text/plain": [
       "            Program Degree Level                   University Sponsor  \\\n",
       "0  Criminal Justice          NaN  Western Michigan University   Uncle   \n",
       "1               NaN          NaN                          N/A     NaN   \n",
       "2               NaN          NaN            DePaul University  Father   \n",
       "3    PhD in Physics          PhD            Purdue University     NaN   \n",
       "4    Cyber Security      Masters                UD University   Uncle   \n",
       "\n",
       "    Scholarship Relatives               Visa Attempt Visa Result  Id  \\\n",
       "0           NaN     Uncle                     Second     Refused   0   \n",
       "1           NaN       NaN  Second (Refusal Category)         NaN   1   \n",
       "2           Yes       NaN                    Refused         NaN   2   \n",
       "3  Fully funded        No                      First     Refused   3   \n",
       "4           NaN     Uncle                      First     Refused   4   \n",
       "\n",
       "            Matched_University Rank  \n",
       "0  Western Michigan University  199  \n",
       "1                          N/A  N/A  \n",
       "2            DePaul University  126  \n",
       "3            Purdue University   60  \n",
       "4                UD University  112  "
      ]
     },
     "execution_count": 56,
     "metadata": {},
     "output_type": "execute_result"
    }
   ],
   "source": [
    "# add the new column 'rank' to the dataframe\n",
    "training_data = training_data.assign(Matched_University=found_uni_names, Rank = found_ranks)\n",
    "training_data.head(5)"
   ]
  },
  {
   "cell_type": "markdown",
   "id": "baec0df4",
   "metadata": {},
   "source": [
    "### Handle Missing Values"
   ]
  },
  {
   "cell_type": "code",
   "execution_count": 57,
   "id": "3f6da0a9",
   "metadata": {},
   "outputs": [
    {
     "name": "stdout",
     "output_type": "stream",
     "text": [
      "Program               153\n",
      "Degree Level          251\n",
      "University            199\n",
      "Sponsor               220\n",
      "Scholarship           496\n",
      "Relatives             474\n",
      "Visa Attempt           39\n",
      "Visa Result            61\n",
      "Id                      0\n",
      "Matched_University    208\n",
      "Rank                  208\n",
      "dtype: int64\n"
     ]
    }
   ],
   "source": [
    "training_data.replace(\"N/A\", np.nan, inplace = True)\n",
    "\n",
    "#  Identify missing values\n",
    "missing_values = training_data.isnull().sum()\n",
    "print(missing_values)\n",
    "\n",
    "# Replace missing values\n",
    "training_data.dropna(subset=['Visa Result'], inplace=True)\n",
    "training_data['Rank'].fillna(1000, inplace=True)\n",
    "training_data['University'].fillna((\"Unknown\"), inplace=True)\n",
    "training_data['Matched_University'].fillna((\"Unknown\"), inplace=True)\n",
    "training_data['Scholarship'].fillna((\"No\"), inplace=True)\n",
    "\n",
    "# For categorical columns, fill with mode\n",
    "training_data.fillna(training_data.mode().iloc[0], inplace=True)"
   ]
  },
  {
   "attachments": {},
   "cell_type": "markdown",
   "id": "c67857fd",
   "metadata": {},
   "source": [
    "### Standardizing the Data"
   ]
  },
  {
   "cell_type": "code",
   "execution_count": 58,
   "id": "988e0b7d",
   "metadata": {
    "scrolled": false
   },
   "outputs": [],
   "source": [
    "from utils import standardize_strings"
   ]
  },
  {
   "cell_type": "code",
   "execution_count": 59,
   "id": "f5bab1f4",
   "metadata": {},
   "outputs": [
    {
     "name": "stdout",
     "output_type": "stream",
     "text": [
      "The following values were not found in the 'replace_list': ['Transfer Student' 'Diploma' 'Associates' 4 'N/A (not mentioned)'\n",
      " 'F-1 Univsersity']\n"
     ]
    }
   ],
   "source": [
    "### Standardizing Degree Level\n",
    "column = 'Degree Level'\n",
    "degree_search_list = ['college', 'ms', 'master', 'grad', 'bachelor', 'bacca', 'Phd', 'bs', 'doctor']\n",
    "degree_replace_list = [1, 3, 3, 3, 2, 2, 4, 2, 4]\n",
    "\n",
    "train_data_std_1 = standardize_strings(training_data, degree_search_list, degree_replace_list, column, '3')"
   ]
  },
  {
   "cell_type": "code",
   "execution_count": 60,
   "id": "dbec9c01",
   "metadata": {},
   "outputs": [
    {
     "name": "stdout",
     "output_type": "stream",
     "text": [
      "The following values were not found in the 'replace_list': ['Uncle' 'Brother' 'Husband' 'SAME' 'Aunt' 'Landlord/Business Owner'\n",
      " 'Told' 'Partner' 'Uncle and Aunt' 'XYZ' 'Cousin' 'Applicant'\n",
      " 'Global Graduate  Program' 'Spouse' 'HEC' 'Yes' 'Xyz' 'Brother-in-law']\n"
     ]
    }
   ],
   "source": [
    "### Standardizing Sponsor\n",
    "\n",
    "column = 'Sponsor'\n",
    "sponsor_search_list = ['father', 'mother', 'parent', 'self', 'assistantship', 'fund', 'employer', 'supervisor', 'research', 'professor', 'loan']\n",
    "sponsor_replace_list = ['Family', 'Family', 'Family', 'Self', 'University', 'University', 'Employer', 'University', 'University', 'University', 'Loan']\n",
    "train_data_std_2 = standardize_strings(train_data_std_1, sponsor_search_list, sponsor_replace_list, column, 'Other')"
   ]
  },
  {
   "cell_type": "code",
   "execution_count": 61,
   "id": "fcc96dca",
   "metadata": {},
   "outputs": [
    {
     "name": "stdout",
     "output_type": "stream",
     "text": [
      "The following values were not found in the 'replace_list': ['Full' 'Out of state waiver' 'Partial' 'Full-tuition wavier and GRA'\n",
      " 'Automatic' '80' 'Financial Aid']\n"
     ]
    }
   ],
   "source": [
    "### Standardizing Scholarship\n",
    "\n",
    "column = 'Scholarship'\n",
    "sponsor_search_list = ['assistantship', '$', '%', 'No', 'k', 'USD', 'Yes', 'scholarship', 'fund', 'prof', 'merit']\n",
    "sponsor_replace_list = ['Full/Assistantship', 'Yes/Partial', 'Yes/Partial', 'No', 'Yes/Partial', 'Yes/Partial', 'Yes/Partial','Yes/Partial','Full/Assistantship', 'Full/Assistantship', 'Yes/Partial']\n",
    "train_data_std_3 = standardize_strings(train_data_std_2, sponsor_search_list, sponsor_replace_list, column, 'No')\n"
   ]
  },
  {
   "cell_type": "code",
   "execution_count": 96,
   "id": "b840d03e",
   "metadata": {},
   "outputs": [
    {
     "name": "stdout",
     "output_type": "stream",
     "text": [
      "The following values were not found in the 'replace_list': ['Criminal Justice' 'Marketing' 'Biotechnology' 'IELI' 'Biology'\n",
      " 'Public Administration' 'Bachelor' 'Food Technology and Processing'\n",
      " 'Flight Training' 'Big Data Analysts' 'ECE' 'Environmental Studies'\n",
      " 'Transportation' 'PhD' 'Nursing'\n",
      " 'Cinematography and Film/Video Production' 'BBA' 'Undisclosed' 'Masters'\n",
      " 'Energy Systems' \"Master's\" 'Agriculture' 'Differential Equations'\n",
      " 'Electrical' 'MSBA' 'Professional Accountancy' 'Observership'\n",
      " 'English Course (Pathway)' 'MS in Java' 'Fashion Design and Merchandise'\n",
      " 'CIS' 'Film' 'M.A Higher Education in Academic Advising' 'Chemistry'\n",
      " 'Chemistry PhD' 'Training Session' 'Academic Intensive English'\n",
      " 'Doctorate' 'Conference' 'Cinematography and Film Production' 'SCM'\n",
      " 'F2 Visa' 'MS BA' 'Career Counseling' 'J-1 Visa' 'Bachelors' 'J1'\n",
      " 'Undergrad' 'Peace and Conflict Studies' 'MPA' 'Public Affairs'\n",
      " 'Criminal Justice and Law Enforcement Administration' 'F2' 'Master'\n",
      " 'Postdoctoral Research' 'Flight School' 'Law' 'Postdoc' 'Ph.D.'\n",
      " 'N/A (not mentioned)' 'Pathway' 'General Studies' 'Psychology PhD']\n"
     ]
    }
   ],
   "source": [
    "### Standardizing Scholarship\n",
    "\n",
    "column = 'Program'\n",
    "program_search_list = ['engineering', 'cs', 'Computer', 'information', 'it', 'Business', 'Health', 'Management', 'Science', 'Finance', 'MBA']\n",
    "program_replace_list = ['Engineering', 'CS', 'CS', 'IT', 'IT','Business Studies', 'Health/Medical', 'Managment Studies', 'Natural Sciences', 'Business Studies', 'Business Studies']\n",
    "train_data_std_4 = standardize_strings(train_data_std_3, program_search_list, program_replace_list, column, 'Other')\n"
   ]
  },
  {
   "cell_type": "code",
   "execution_count": 97,
   "id": "3b5fadc2",
   "metadata": {},
   "outputs": [
    {
     "name": "stdout",
     "output_type": "stream",
     "text": [
      "The following values were not found in the 'replace_list': [0]\n"
     ]
    }
   ],
   "source": [
    "### Standardizing Visa Result\n",
    "\n",
    "column = 'Visa Result'\n",
    "visa_search_list = ['221', 'processing', 'pending', 'N/A', 'Approved', 'Accepted', 'Refused', 'Rejected']\n",
    "visa_replace_list = [1, 1, 1, 0, 1, 1, 0, 0]\n",
    "train_data_std_5 = standardize_strings(train_data_std_4, visa_search_list, visa_replace_list, column, '0')"
   ]
  },
  {
   "cell_type": "code",
   "execution_count": 98,
   "id": "143ee6d2",
   "metadata": {},
   "outputs": [
    {
     "name": "stdout",
     "output_type": "stream",
     "text": [
      "The following values were not found in the 'replace_list': ['N/A s' 'Yes' 'No s' 'No relatives in US' 'No relatives in USA' 'Cousin'\n",
      " 'No other relative' 'Friend' 'No relatives in US s'\n",
      " 'Parents and younger sibling' 'Family in Saudi Arabia' 'F2'\n",
      " 'Extended family' 'Wife' 'Engaged to US Citizen']\n"
     ]
    }
   ],
   "source": [
    "### Standardizing Relatives\n",
    "\n",
    "column = 'Relatives'\n",
    "relatives_search_list = ['Husband', 'Spouse', 'Brother', 'Sister', 'Father', 'Uncle', 'Mother', 'Aunt' ]\n",
    "relatives_replace_list = ['Spouse', 'Spouse', 'Brother', 'Sister', 'Parents', 'No', 'Parents', 'No']\n",
    "train_data_std_6 = standardize_strings(train_data_std_5, relatives_search_list, relatives_replace_list, column, 'No')\n"
   ]
  },
  {
   "cell_type": "code",
   "execution_count": 99,
   "id": "d339e620",
   "metadata": {},
   "outputs": [
    {
     "name": "stdout",
     "output_type": "stream",
     "text": [
      "The following values were not found in the 'replace_list': ['Previous Visa Refusal' 'Previous Refusal' 4 'Renewal'\n",
      " 'N/A (not mentioned)']\n"
     ]
    }
   ],
   "source": [
    "### Standardizing Visa Attempt\n",
    "column = 'Visa Attempt'\n",
    "attempt_search_list = ['st', 'nd', 'rd', 'th']\n",
    "attempt_replace_list = [1, 2, 3, 4]\n",
    "train_data_std_7 = standardize_strings(train_data_std_6, attempt_search_list, attempt_replace_list, column, '2')"
   ]
  },
  {
   "cell_type": "code",
   "execution_count": 100,
   "id": "573386da",
   "metadata": {},
   "outputs": [],
   "source": [
    "### Specifying the red_list universities ###\n",
    "red_list = ['Wichita State University', 'Webster University', 'Adelphi University' , 'UD University' , 'Troy University', 'Saint Louis University', 'Mercer University', 'Full Sail University', 'Gannon University', 'Maharishi International University', 'University of New Haven', 'Westcliff University', 'St. cloud state university', 'Bay Atlantic University', 'Salem University', 'UD University', 'Dayton Unviersity', 'Cleveland State University']\n",
    "\n",
    "with open('inference_files/red_listed_unis.pkl', 'wb') as file:\n",
    "    pickle.dump(red_list, file)\n",
    "\n",
    "train_data_std_7['Red List'] = np.where(train_data_std_7['University'].isin(red_list), 1, 0)\n",
    "\n",
    "### Filtering Unknown Universities\n",
    "train_data_std_8 = train_data_std_7[train_data_std_7.loc[: 'Matched_University'] != 'Unknown']\n",
    "\n",
    "# Binning Rank #\n",
    "train_data_std_8['Rank'] = pd.cut(train_data_std_8['Rank'], bins=[0, 100, 200, 500, 2000], labels=[1, 2, 3, 4])\n"
   ]
  },
  {
   "cell_type": "code",
   "execution_count": 101,
   "id": "c87e8f9d",
   "metadata": {},
   "outputs": [
    {
     "data": {
      "text/html": [
       "<div>\n",
       "<style scoped>\n",
       "    .dataframe tbody tr th:only-of-type {\n",
       "        vertical-align: middle;\n",
       "    }\n",
       "\n",
       "    .dataframe tbody tr th {\n",
       "        vertical-align: top;\n",
       "    }\n",
       "\n",
       "    .dataframe thead th {\n",
       "        text-align: right;\n",
       "    }\n",
       "</style>\n",
       "<table border=\"1\" class=\"dataframe\">\n",
       "  <thead>\n",
       "    <tr style=\"text-align: right;\">\n",
       "      <th></th>\n",
       "      <th>Program</th>\n",
       "      <th>Degree Level</th>\n",
       "      <th>Scholarship</th>\n",
       "      <th>Sponsor</th>\n",
       "      <th>Relatives</th>\n",
       "      <th>Rank</th>\n",
       "      <th>Red List</th>\n",
       "      <th>Visa Attempt</th>\n",
       "      <th>Visa Result</th>\n",
       "    </tr>\n",
       "  </thead>\n",
       "  <tbody>\n",
       "    <tr>\n",
       "      <th>0</th>\n",
       "      <td>Other</td>\n",
       "      <td>3</td>\n",
       "      <td>No</td>\n",
       "      <td>Other</td>\n",
       "      <td>No</td>\n",
       "      <td>2</td>\n",
       "      <td>0</td>\n",
       "      <td>2</td>\n",
       "      <td>0</td>\n",
       "    </tr>\n",
       "    <tr>\n",
       "      <th>3</th>\n",
       "      <td>CS</td>\n",
       "      <td>4</td>\n",
       "      <td>Full/Assistantship</td>\n",
       "      <td>Family</td>\n",
       "      <td>No</td>\n",
       "      <td>1</td>\n",
       "      <td>0</td>\n",
       "      <td>1</td>\n",
       "      <td>0</td>\n",
       "    </tr>\n",
       "    <tr>\n",
       "      <th>4</th>\n",
       "      <td>IT</td>\n",
       "      <td>3</td>\n",
       "      <td>No</td>\n",
       "      <td>Other</td>\n",
       "      <td>No</td>\n",
       "      <td>2</td>\n",
       "      <td>1</td>\n",
       "      <td>1</td>\n",
       "      <td>0</td>\n",
       "    </tr>\n",
       "    <tr>\n",
       "      <th>5</th>\n",
       "      <td>CS</td>\n",
       "      <td>3</td>\n",
       "      <td>No</td>\n",
       "      <td>Family</td>\n",
       "      <td>Brother</td>\n",
       "      <td>1</td>\n",
       "      <td>0</td>\n",
       "      <td>2</td>\n",
       "      <td>0</td>\n",
       "    </tr>\n",
       "    <tr>\n",
       "      <th>6</th>\n",
       "      <td>Business Studies</td>\n",
       "      <td>3</td>\n",
       "      <td>No</td>\n",
       "      <td>Family</td>\n",
       "      <td>Parents</td>\n",
       "      <td>2</td>\n",
       "      <td>0</td>\n",
       "      <td>3</td>\n",
       "      <td>0</td>\n",
       "    </tr>\n",
       "  </tbody>\n",
       "</table>\n",
       "</div>"
      ],
      "text/plain": [
       "            Program Degree Level         Scholarship Sponsor Relatives Rank  \\\n",
       "0             Other            3                  No   Other        No    2   \n",
       "3                CS            4  Full/Assistantship  Family        No    1   \n",
       "4                IT            3                  No   Other        No    2   \n",
       "5                CS            3                  No  Family   Brother    1   \n",
       "6  Business Studies            3                  No  Family   Parents    2   \n",
       "\n",
       "   Red List Visa Attempt Visa Result  \n",
       "0         0            2           0  \n",
       "3         0            1           0  \n",
       "4         1            1           0  \n",
       "5         0            2           0  \n",
       "6         0            3           0  "
      ]
     },
     "execution_count": 101,
     "metadata": {},
     "output_type": "execute_result"
    }
   ],
   "source": [
    "training_data = train_data_std_8.loc[:, ['Program', 'Degree Level', 'Scholarship','Sponsor', 'Relatives', 'Rank', 'Red List', 'Visa Attempt', 'Visa Result']]\n",
    "target_data = train_data_std_8[['Visa Result']].astype(int)\n",
    "training_data.head()"
   ]
  },
  {
   "attachments": {},
   "cell_type": "markdown",
   "id": "53b35689",
   "metadata": {},
   "source": [
    "## Exploratory Data Analysis"
   ]
  },
  {
   "cell_type": "code",
   "execution_count": 102,
   "id": "482c99f5",
   "metadata": {},
   "outputs": [],
   "source": [
    "### Defining Colors\n",
    "red = (231/256, 99/256, 118/256)\n",
    "green = (166/256, 211/256, 160/256)\n",
    "blue = (107/256, 127/256, 215/256)"
   ]
  },
  {
   "cell_type": "code",
   "execution_count": 103,
   "id": "2c1e3358",
   "metadata": {},
   "outputs": [
    {
     "data": {
      "image/png": "[encoded data removed]",
      "text/plain": [
       "<Figure size 640x480 with 1 Axes>"
      ]
     },
     "metadata": {},
     "output_type": "display_data"
    }
   ],
   "source": [
    "# Group the data by category and visa result, and calculate the counts\n",
    "counts = train_data_std_7.groupby('Visa Attempt')['Visa Result'].value_counts().unstack()\n",
    "\n",
    "# Create bar plot\n",
    "counts.plot.bar(rot=0, color= [red,green])\n",
    "\n",
    "# Add labels and title\n",
    "plt.xlabel(\"Visa Attempt\")\n",
    "plt.ylabel(\"Count\")\n",
    "plt.title(\"Visa Approval Status by Program\")\n",
    "\n",
    "# Show the chart\n",
    "plt.show()"
   ]
  },
  {
   "cell_type": "code",
   "execution_count": 104,
   "id": "4b9eecf3",
   "metadata": {},
   "outputs": [
    {
     "data": {
      "image/png": "[encoded data removed]",
      "text/plain": [
       "<Figure size 640x480 with 1 Axes>"
      ]
     },
     "metadata": {},
     "output_type": "display_data"
    }
   ],
   "source": [
    "# Group the data by category and visa result, and calculate the counts\n",
    "counts = train_data_std_7.groupby('Program')['Visa Result'].value_counts().unstack()\n",
    "\n",
    "# Create bar plot\n",
    "counts.plot.bar(rot=0, color= [red,green])\n",
    "\n",
    "# Add labels and title\n",
    "plt.xlabel(\"Program\")\n",
    "plt.ylabel(\"Count\")\n",
    "plt.title(\"Visa Approval Status by Program\")\n",
    "\n",
    "# Show the chart\n",
    "plt.show()"
   ]
  },
  {
   "cell_type": "code",
   "execution_count": 105,
   "id": "5503e466",
   "metadata": {},
   "outputs": [
    {
     "data": {
      "image/png": "[encoded data removed]",
      "text/plain": [
       "<Figure size 640x480 with 1 Axes>"
      ]
     },
     "metadata": {},
     "output_type": "display_data"
    }
   ],
   "source": [
    "# Group the data by category and visa result, and calculate the counts\n",
    "counts = training_data.groupby('Degree Level')['Visa Result'].value_counts().unstack()\n",
    "\n",
    "# Create bar plot with custom colors\n",
    "counts.plot.bar(color=[red, green])\n",
    "\n",
    "\n",
    "# Add labels and title\n",
    "plt.xlabel(\"Degree Level\")\n",
    "plt.ylabel(\"Count\")\n",
    "plt.title(\"Visa Approval Status by Degree Level\")\n",
    "\n",
    "# Show the chart\n",
    "plt.show()"
   ]
  },
  {
   "cell_type": "code",
   "execution_count": 106,
   "id": "d0600675",
   "metadata": {},
   "outputs": [
    {
     "data": {
      "image/png": "[encoded data removed]",
      "text/plain": [
       "<Figure size 640x480 with 1 Axes>"
      ]
     },
     "metadata": {},
     "output_type": "display_data"
    }
   ],
   "source": [
    "# Group the data by category and visa result, and calculate the counts\n",
    "counts = training_data.groupby('Scholarship')['Visa Result'].value_counts().unstack()\n",
    "\n",
    "# Create bar plot with custom colors\n",
    "counts.plot.bar(color=[red, green])\n",
    "\n",
    "# Add labels and title\n",
    "plt.xlabel(\"Scholarship\")\n",
    "plt.ylabel(\"Count\")\n",
    "plt.title(\"Visa Approval Status by Scholarship\")\n",
    "plt.xticks(rotation=0)\n",
    "# Show the chart\n",
    "plt.show()\n"
   ]
  },
  {
   "cell_type": "code",
   "execution_count": 107,
   "id": "86912a19",
   "metadata": {},
   "outputs": [
    {
     "data": {
      "image/png": "[encoded data removed]",
      "text/plain": [
       "<Figure size 640x480 with 1 Axes>"
      ]
     },
     "metadata": {},
     "output_type": "display_data"
    }
   ],
   "source": [
    "# Group the data by category and visa result, and calculate the counts\n",
    "counts = training_data.groupby('Sponsor')['Visa Result'].value_counts().unstack()\n",
    "\n",
    "# Create bar plot with custom colors\n",
    "counts.plot.bar(color=[red, green])\n",
    "\n",
    "# Add labels and title\n",
    "plt.xlabel(\"Sponsor\")\n",
    "plt.ylabel(\"Count\")\n",
    "plt.title(\"Visa Approval Status by Sponsor\")\n",
    "plt.xticks(rotation=0)\n",
    "# Show the chart\n",
    "plt.show()"
   ]
  },
  {
   "cell_type": "code",
   "execution_count": 108,
   "id": "f9b7b305",
   "metadata": {},
   "outputs": [
    {
     "data": {
      "image/png": "[encoded data removed]",
      "text/plain": [
       "<Figure size 640x480 with 1 Axes>"
      ]
     },
     "metadata": {},
     "output_type": "display_data"
    }
   ],
   "source": [
    "# Group the data by category and visa result, and calculate the counts\n",
    "counts = training_data.groupby('Relatives')['Visa Result'].value_counts().unstack()\n",
    "\n",
    "# Create bar plot with custom colors\n",
    "counts.plot.bar(color=[red, green])\n",
    "\n",
    "# Add labels and title\n",
    "plt.xlabel(\"Relatives\")\n",
    "plt.ylabel(\"Count\")\n",
    "plt.title(\"Visa Approval Status by Relatives\")\n",
    "plt.xticks(rotation=0)\n",
    "# Show the chart\n",
    "plt.show()"
   ]
  },
  {
   "cell_type": "code",
   "execution_count": 109,
   "id": "1ebb3099",
   "metadata": {},
   "outputs": [
    {
     "data": {
      "image/png": "[encoded data removed]",
      "text/plain": [
       "<Figure size 640x480 with 1 Axes>"
      ]
     },
     "metadata": {},
     "output_type": "display_data"
    }
   ],
   "source": [
    "# Group the data by category and visa result, and calculate the counts\n",
    "counts = training_data.groupby('Red List')['Visa Result'].value_counts().unstack()\n",
    "\n",
    "# Create bar plot with custom colors\n",
    "counts.plot.bar(color=[red, green])\n",
    "\n",
    "# Add labels and title\n",
    "plt.xlabel(\"Red List\")\n",
    "plt.ylabel(\"Count\")\n",
    "plt.title(\"Visa Approval Status by Red List\")\n",
    "plt.xticks(rotation=0)\n",
    "# Show the chart\n",
    "plt.show()"
   ]
  },
  {
   "attachments": {},
   "cell_type": "markdown",
   "id": "c3b72b5b",
   "metadata": {},
   "source": [
    "## Pre-Processing"
   ]
  },
  {
   "cell_type": "code",
   "execution_count": 110,
   "id": "2ad89a6c",
   "metadata": {},
   "outputs": [],
   "source": [
    "### Breaking Down Data into Numeric and Categorical Features ###\n",
    "numeric_columns = ['Visa Attempt', 'Degree Level', 'Rank', 'Red List', 'Visa Result']\n",
    "cat_columns = ['Program', 'Scholarship', 'Relatives'] # 'Sponsor' is not included because it worsned the model"
   ]
  },
  {
   "cell_type": "code",
   "execution_count": 111,
   "id": "117bca2b",
   "metadata": {},
   "outputs": [],
   "source": [
    "from sklearn.preprocessing import OneHotEncoder\n",
    "from sklearn.compose import ColumnTransformer\n",
    "import pickle\n",
    "\n",
    "encoder = OneHotEncoder(sparse_output=False)\n",
    "encoder.fit(training_data[cat_columns])\n",
    "\n",
    "with open('inference_files/onehot_encoder.pkl', 'wb') as f:\n",
    "   pickle.dump(encoder, f)\n",
    "\n",
    "training_data_num = training_data[numeric_columns]\n",
    "training_data_cat_np = encoder.transform(training_data[cat_columns])\n",
    "training_data_cat = pd.DataFrame(data=training_data_cat_np, columns = encoder.get_feature_names_out(input_features=cat_columns))"
   ]
  },
  {
   "cell_type": "code",
   "execution_count": 112,
   "id": "8b80438c",
   "metadata": {},
   "outputs": [
    {
     "data": {
      "text/html": [
       "<div>\n",
       "<style scoped>\n",
       "    .dataframe tbody tr th:only-of-type {\n",
       "        vertical-align: middle;\n",
       "    }\n",
       "\n",
       "    .dataframe tbody tr th {\n",
       "        vertical-align: top;\n",
       "    }\n",
       "\n",
       "    .dataframe thead th {\n",
       "        text-align: right;\n",
       "    }\n",
       "</style>\n",
       "<table border=\"1\" class=\"dataframe\">\n",
       "  <thead>\n",
       "    <tr style=\"text-align: right;\">\n",
       "      <th></th>\n",
       "      <th>Visa Attempt</th>\n",
       "      <th>Degree Level</th>\n",
       "      <th>Rank</th>\n",
       "      <th>Red List</th>\n",
       "      <th>Visa Result</th>\n",
       "      <th>Program_Business Studies</th>\n",
       "      <th>Program_CS</th>\n",
       "      <th>Program_Engineering</th>\n",
       "      <th>Program_Health/Medical</th>\n",
       "      <th>Program_IT</th>\n",
       "      <th>...</th>\n",
       "      <th>Program_Natural Sciences</th>\n",
       "      <th>Program_Other</th>\n",
       "      <th>Scholarship_Full/Assistantship</th>\n",
       "      <th>Scholarship_No</th>\n",
       "      <th>Scholarship_Yes/Partial</th>\n",
       "      <th>Relatives_Brother</th>\n",
       "      <th>Relatives_No</th>\n",
       "      <th>Relatives_Parents</th>\n",
       "      <th>Relatives_Sister</th>\n",
       "      <th>Relatives_Spouse</th>\n",
       "    </tr>\n",
       "  </thead>\n",
       "  <tbody>\n",
       "    <tr>\n",
       "      <th>0</th>\n",
       "      <td>2</td>\n",
       "      <td>3</td>\n",
       "      <td>2</td>\n",
       "      <td>0</td>\n",
       "      <td>0</td>\n",
       "      <td>0.0</td>\n",
       "      <td>0.0</td>\n",
       "      <td>0.0</td>\n",
       "      <td>0.0</td>\n",
       "      <td>0.0</td>\n",
       "      <td>...</td>\n",
       "      <td>0.0</td>\n",
       "      <td>1.0</td>\n",
       "      <td>0.0</td>\n",
       "      <td>1.0</td>\n",
       "      <td>0.0</td>\n",
       "      <td>0.0</td>\n",
       "      <td>1.0</td>\n",
       "      <td>0.0</td>\n",
       "      <td>0.0</td>\n",
       "      <td>0.0</td>\n",
       "    </tr>\n",
       "    <tr>\n",
       "      <th>1</th>\n",
       "      <td>1</td>\n",
       "      <td>4</td>\n",
       "      <td>1</td>\n",
       "      <td>0</td>\n",
       "      <td>0</td>\n",
       "      <td>0.0</td>\n",
       "      <td>1.0</td>\n",
       "      <td>0.0</td>\n",
       "      <td>0.0</td>\n",
       "      <td>0.0</td>\n",
       "      <td>...</td>\n",
       "      <td>0.0</td>\n",
       "      <td>0.0</td>\n",
       "      <td>1.0</td>\n",
       "      <td>0.0</td>\n",
       "      <td>0.0</td>\n",
       "      <td>0.0</td>\n",
       "      <td>1.0</td>\n",
       "      <td>0.0</td>\n",
       "      <td>0.0</td>\n",
       "      <td>0.0</td>\n",
       "    </tr>\n",
       "    <tr>\n",
       "      <th>2</th>\n",
       "      <td>1</td>\n",
       "      <td>3</td>\n",
       "      <td>2</td>\n",
       "      <td>1</td>\n",
       "      <td>0</td>\n",
       "      <td>0.0</td>\n",
       "      <td>0.0</td>\n",
       "      <td>0.0</td>\n",
       "      <td>0.0</td>\n",
       "      <td>1.0</td>\n",
       "      <td>...</td>\n",
       "      <td>0.0</td>\n",
       "      <td>0.0</td>\n",
       "      <td>0.0</td>\n",
       "      <td>1.0</td>\n",
       "      <td>0.0</td>\n",
       "      <td>0.0</td>\n",
       "      <td>1.0</td>\n",
       "      <td>0.0</td>\n",
       "      <td>0.0</td>\n",
       "      <td>0.0</td>\n",
       "    </tr>\n",
       "    <tr>\n",
       "      <th>3</th>\n",
       "      <td>2</td>\n",
       "      <td>3</td>\n",
       "      <td>1</td>\n",
       "      <td>0</td>\n",
       "      <td>0</td>\n",
       "      <td>0.0</td>\n",
       "      <td>1.0</td>\n",
       "      <td>0.0</td>\n",
       "      <td>0.0</td>\n",
       "      <td>0.0</td>\n",
       "      <td>...</td>\n",
       "      <td>0.0</td>\n",
       "      <td>0.0</td>\n",
       "      <td>0.0</td>\n",
       "      <td>1.0</td>\n",
       "      <td>0.0</td>\n",
       "      <td>1.0</td>\n",
       "      <td>0.0</td>\n",
       "      <td>0.0</td>\n",
       "      <td>0.0</td>\n",
       "      <td>0.0</td>\n",
       "    </tr>\n",
       "    <tr>\n",
       "      <th>4</th>\n",
       "      <td>3</td>\n",
       "      <td>3</td>\n",
       "      <td>2</td>\n",
       "      <td>0</td>\n",
       "      <td>0</td>\n",
       "      <td>1.0</td>\n",
       "      <td>0.0</td>\n",
       "      <td>0.0</td>\n",
       "      <td>0.0</td>\n",
       "      <td>0.0</td>\n",
       "      <td>...</td>\n",
       "      <td>0.0</td>\n",
       "      <td>0.0</td>\n",
       "      <td>0.0</td>\n",
       "      <td>1.0</td>\n",
       "      <td>0.0</td>\n",
       "      <td>0.0</td>\n",
       "      <td>0.0</td>\n",
       "      <td>1.0</td>\n",
       "      <td>0.0</td>\n",
       "      <td>0.0</td>\n",
       "    </tr>\n",
       "  </tbody>\n",
       "</table>\n",
       "<p>5 rows × 21 columns</p>\n",
       "</div>"
      ],
      "text/plain": [
       "   Visa Attempt  Degree Level  Rank  Red List  Visa Result  \\\n",
       "0             2             3     2         0            0   \n",
       "1             1             4     1         0            0   \n",
       "2             1             3     2         1            0   \n",
       "3             2             3     1         0            0   \n",
       "4             3             3     2         0            0   \n",
       "\n",
       "   Program_Business Studies  Program_CS  Program_Engineering  \\\n",
       "0                       0.0         0.0                  0.0   \n",
       "1                       0.0         1.0                  0.0   \n",
       "2                       0.0         0.0                  0.0   \n",
       "3                       0.0         1.0                  0.0   \n",
       "4                       1.0         0.0                  0.0   \n",
       "\n",
       "   Program_Health/Medical  Program_IT  ...  Program_Natural Sciences  \\\n",
       "0                     0.0         0.0  ...                       0.0   \n",
       "1                     0.0         0.0  ...                       0.0   \n",
       "2                     0.0         1.0  ...                       0.0   \n",
       "3                     0.0         0.0  ...                       0.0   \n",
       "4                     0.0         0.0  ...                       0.0   \n",
       "\n",
       "   Program_Other  Scholarship_Full/Assistantship  Scholarship_No  \\\n",
       "0            1.0                             0.0             1.0   \n",
       "1            0.0                             1.0             0.0   \n",
       "2            0.0                             0.0             1.0   \n",
       "3            0.0                             0.0             1.0   \n",
       "4            0.0                             0.0             1.0   \n",
       "\n",
       "   Scholarship_Yes/Partial  Relatives_Brother  Relatives_No  \\\n",
       "0                      0.0                0.0           1.0   \n",
       "1                      0.0                0.0           1.0   \n",
       "2                      0.0                0.0           1.0   \n",
       "3                      0.0                1.0           0.0   \n",
       "4                      0.0                0.0           0.0   \n",
       "\n",
       "   Relatives_Parents  Relatives_Sister  Relatives_Spouse  \n",
       "0                0.0               0.0               0.0  \n",
       "1                0.0               0.0               0.0  \n",
       "2                0.0               0.0               0.0  \n",
       "3                0.0               0.0               0.0  \n",
       "4                1.0               0.0               0.0  \n",
       "\n",
       "[5 rows x 21 columns]"
      ]
     },
     "execution_count": 112,
     "metadata": {},
     "output_type": "execute_result"
    }
   ],
   "source": [
    "target_data.reset_index(drop=True, inplace=True)\n",
    "training_data_cat.reset_index(drop=True, inplace=True)\n",
    "training_data_num.reset_index(drop=True, inplace=True)\n",
    "training_data_num = training_data_num.astype(int)\n",
    "training_data = pd.concat([training_data_num, training_data_cat], axis=1, ignore_index=False)\n",
    "training_data.head()"
   ]
  },
  {
   "cell_type": "code",
   "execution_count": 113,
   "id": "7578e65d",
   "metadata": {},
   "outputs": [],
   "source": [
    "target_train = training_data['Visa Result']\n",
    "features_train = training_data.drop(['Visa Result'], axis=1)"
   ]
  },
  {
   "cell_type": "code",
   "execution_count": 128,
   "id": "da92c86c",
   "metadata": {},
   "outputs": [
    {
     "data": {
      "text/plain": [
       "Index(['Visa Attempt', 'Degree Level', 'Rank', 'Red List',\n",
       "       'Program_Business Studies', 'Program_CS', 'Program_Engineering',\n",
       "       'Program_Health/Medical', 'Program_IT', 'Program_Managment Studies',\n",
       "       'Program_Natural Sciences', 'Program_Other',\n",
       "       'Scholarship_Full/Assistantship', 'Scholarship_No',\n",
       "       'Scholarship_Yes/Partial', 'Relatives_Brother', 'Relatives_No',\n",
       "       'Relatives_Parents', 'Relatives_Sister', 'Relatives_Spouse'],\n",
       "      dtype='object')"
      ]
     },
     "execution_count": 128,
     "metadata": {},
     "output_type": "execute_result"
    }
   ],
   "source": [
    "features_train.columns"
   ]
  },
  {
   "attachments": {},
   "cell_type": "markdown",
   "id": "66bd801e",
   "metadata": {},
   "source": [
    "## Machine Learning Model"
   ]
  },
  {
   "cell_type": "code",
   "execution_count": 114,
   "id": "ef575e5a",
   "metadata": {},
   "outputs": [],
   "source": [
    "from sklearn.model_selection import train_test_split\n",
    "from sklearn import preprocessing\n",
    "from sklearn.metrics import f1_score, accuracy_score, precision_score, recall_score, confusion_matrix\n",
    "\n",
    "X_train, X_test, y_train, y_test = train_test_split(features_train, target_train, test_size = 0.3, random_state=27)"
   ]
  },
  {
   "attachments": {},
   "cell_type": "markdown",
   "id": "04cb4d6a",
   "metadata": {},
   "source": [
    "#### Handling Data Imbalance"
   ]
  },
  {
   "cell_type": "code",
   "execution_count": 115,
   "id": "3d25a67e",
   "metadata": {},
   "outputs": [],
   "source": [
    "### Handling Imbalanced Data using SMOTE ###\n",
    "from imblearn.over_sampling import SMOTE, ADASYN, BorderlineSMOTE\n",
    "\n",
    "sm = ADASYN(random_state=27)\n",
    "X_train, y_train = sm.fit_resample(X_train, y_train)"
   ]
  },
  {
   "cell_type": "code",
   "execution_count": 137,
   "id": "72da0b18",
   "metadata": {},
   "outputs": [],
   "source": [
    "import tensorflow as tf\n",
    "import pandas as pd\n",
    "from sklearn.preprocessing import StandardScaler\n",
    "from sklearn.metrics import confusion_matrix, accuracy_score, precision_score\n",
    "import seaborn as sns\n",
    "import matplotlib.pyplot as plt\n",
    "\n",
    "# fix the randomization\n",
    "np.random.seed(32)\n",
    "tf.random.set_seed(32)\n",
    "\n",
    "# Scale the data\n",
    "scaler = StandardScaler()\n",
    "X_train_scaled = scaler.fit_transform(X_train)\n",
    "X_test_scaled = scaler.transform(X_test)\n",
    "\n",
    "with open('inference_files/scaler.pkl', 'wb') as file:\n",
    "    pickle.dump(scaler, file)\n",
    "\n",
    "# Convert the data to TensorFlow tensors\n",
    "X_train_scaled = tf.convert_to_tensor(X_train_scaled, dtype=tf.float32)\n",
    "y_train_scaled = tf.convert_to_tensor(y_train, dtype=tf.float32)\n",
    "X_test_scaled = tf.convert_to_tensor(X_test_scaled, dtype=tf.float32)\n",
    "y_test_scaled = tf.convert_to_tensor(y_test, dtype=tf.float32)"
   ]
  },
  {
   "cell_type": "code",
   "execution_count": 122,
   "id": "501ea64e",
   "metadata": {},
   "outputs": [
    {
     "name": "stdout",
     "output_type": "stream",
     "text": [
      "16/16 [==============================] - 0s 903us/step\n"
     ]
    }
   ],
   "source": [
    "lamda = 0.001\n",
    "\n",
    "# Define the model architecture\n",
    "model = tf.keras.Sequential([\n",
    "    tf.keras.layers.Dense(50, activation='relu', kernel_regularizer=tf.keras.regularizers.l2(lamda), input_dim=X_train.shape[1]),\n",
    "    tf.keras.layers.Dense(20, activation='sigmoid', kernel_regularizer=tf.keras.regularizers.l2(lamda)),\n",
    "    tf.keras.layers.Dense(20, activation='sigmoid', kernel_regularizer=tf.keras.regularizers.l2(lamda)),\n",
    "    tf.keras.layers.Dense(1, activation='sigmoid')\n",
    "])\n",
    "\n",
    "# Compile the model\n",
    "model.compile(loss='binary_crossentropy', optimizer='adam', metrics=['accuracy'])\n",
    "\n",
    "# Train the model\n",
    "model.fit(X_train_scaled, y_train_scaled, epochs=80, batch_size=32, validation_data=(X_test_scaled, y_test_scaled), verbose=0)\n",
    "\n",
    "# Make predictions on the training set\n",
    "y_pred_train = model.predict(X_train_scaled)\n"
   ]
  },
  {
   "cell_type": "code",
   "execution_count": 123,
   "id": "509668f5",
   "metadata": {},
   "outputs": [
    {
     "data": {
      "image/png": "[encoded data removed]",
      "text/plain": [
       "<Figure size 500x500 with 1 Axes>"
      ]
     },
     "metadata": {},
     "output_type": "display_data"
    }
   ],
   "source": [
    "# Define the bin edges.\n",
    "bins = np.arange(0, 1.1, 0.1)\n",
    "\n",
    "plt.figure(figsize=(5, 5))\n",
    "# Plot a histogram.\n",
    "plt.hist(y_pred_train, bins=bins, edgecolor='black')\n",
    "\n",
    "# Set the labels and title.\n",
    "plt.xlabel('Value')\n",
    "plt.ylabel('Frequency')\n",
    "plt.title('Distribution of Training prediction')\n",
    "\n",
    "# Show the plot.\n",
    "plt.show()"
   ]
  },
  {
   "cell_type": "code",
   "execution_count": 124,
   "id": "3c15ede7",
   "metadata": {},
   "outputs": [
    {
     "name": "stdout",
     "output_type": "stream",
     "text": [
      "6/6 [==============================] - 0s 2ms/step\n"
     ]
    },
    {
     "data": {
      "image/png": "[encoded data removed]",
      "text/plain": [
       "<Figure size 640x480 with 2 Axes>"
      ]
     },
     "metadata": {},
     "output_type": "display_data"
    },
    {
     "data": {
      "image/png": "[encoded data removed]",
      "text/plain": [
       "<Figure size 640x480 with 2 Axes>"
      ]
     },
     "metadata": {},
     "output_type": "display_data"
    },
    {
     "name": "stdout",
     "output_type": "stream",
     "text": [
      "The accuracy with training data is 0.7255717255717256\n",
      "The accuracy with test data is 0.717391304347826\n",
      "Precision: 0.676923076923077\n",
      "Recall: 0.5866666666666667\n",
      "F1 Score: 0.6285714285714286\n"
     ]
    }
   ],
   "source": [
    "y_pred_train_bin = y_pred_train > .5\n",
    "conf_matrix_train = confusion_matrix(y_train, y_pred_train_bin)\n",
    "accuracy_train = accuracy_score(y_train, y_pred_train_bin)\n",
    "\n",
    "y_pred_test = model.predict(X_test_scaled)\n",
    "y_pred_test_bin = y_pred_test > .5\n",
    "conf_matrix_test = confusion_matrix(y_test, y_pred_test_bin)\n",
    "accuracy_test = accuracy_score(y_test, y_pred_test_bin)\n",
    "\n",
    "sns.heatmap(conf_matrix_train, annot=True, cmap=\"Blues\", fmt=\"d\")\n",
    "plt.title(\"Confusion Matrix with training data\")\n",
    "plt.xlabel(\"Predicted Class\")\n",
    "plt.ylabel(\"True Class\")\n",
    "plt.show()\n",
    "\n",
    "sns.heatmap(conf_matrix_test, annot=True, cmap=\"Blues\", fmt=\"d\")\n",
    "plt.title(\"Confusion Matrix with test data\")\n",
    "plt.xlabel(\"Predicted Class\")\n",
    "plt.ylabel(\"True Class\")\n",
    "plt.show()\n",
    "\n",
    "print(f\"The accuracy with training data is {accuracy_train}\")\n",
    "print(f\"The accuracy with test data is {accuracy_test}\")\n",
    "\n",
    "### calculating the precision, recall and f1 score ###\n",
    "precision_train = precision_score(y_train, y_pred_train_bin)\n",
    "recall_train = recall_score(y_train, y_pred_train_bin)\n",
    "f1_train = f1_score(y_train, y_pred_train_bin)\n",
    "\n",
    "precision_test = precision_score(y_test, y_pred_test_bin)\n",
    "recall_test = recall_score(y_test, y_pred_test_bin)\n",
    "f1_test = f1_score(y_test, y_pred_test_bin)\n",
    "\n",
    "### printing the precision, recall and f1 score for test set\n",
    "print(f\"Precision: {precision_test}\")\n",
    "print(f\"Recall: {recall_test}\")\n",
    "print(f\"F1 Score: {f1_test}\")\n"
   ]
  },
  {
   "attachments": {},
   "cell_type": "markdown",
   "id": "32fa299a",
   "metadata": {},
   "source": [
    "#### Saving the Model's Weights"
   ]
  },
  {
   "cell_type": "code",
   "execution_count": 125,
   "id": "9a63a04b",
   "metadata": {},
   "outputs": [
    {
     "name": "stderr",
     "output_type": "stream",
     "text": [
      "c:\\ProgramData\\Anaconda3\\envs\\NNs\\lib\\site-packages\\keras\\src\\engine\\training.py:3000: UserWarning: You are saving your model as an HDF5 file via `model.save()`. This file format is considered legacy. We recommend using instead the native Keras format, e.g. `model.save('my_model.keras')`.\n",
      "  saving_api.save_model(\n"
     ]
    }
   ],
   "source": [
    "#### Saving the Model weights ####\n",
    "model.save('inference_files/model.h5')"
   ]
  },
  {
   "attachments": {},
   "cell_type": "markdown",
   "id": "4d79e59c",
   "metadata": {},
   "source": [
    "### Random Forest"
   ]
  },
  {
   "cell_type": "code",
   "execution_count": 126,
   "id": "9af98ead",
   "metadata": {},
   "outputs": [
    {
     "data": {
      "image/png": "[encoded data removed]",
      "text/plain": [
       "<Figure size 640x480 with 2 Axes>"
      ]
     },
     "metadata": {},
     "output_type": "display_data"
    },
    {
     "name": "stdout",
     "output_type": "stream",
     "text": [
      "Accuracy: 0.6847826086956522\n",
      "Precision: 0.6075949367088608\n",
      "Recall: 0.64\n",
      "F1 Score: 0.6233766233766234\n"
     ]
    }
   ],
   "source": [
    "### applying random forest classifier ###\n",
    "from sklearn.ensemble import RandomForestClassifier\n",
    "from sklearn.ensemble import AdaBoostClassifier\n",
    "from sklearn.ensemble import GradientBoostingClassifier\n",
    "\n",
    "# Create the model with 100 trees\n",
    "abc = AdaBoostClassifier(n_estimators=500, random_state=27, learning_rate=0.1)\n",
    "\n",
    "# Train the model on training data\n",
    "abc.fit(X_train, y_train)\n",
    "\n",
    "# Use the forest's predict method on the test data\n",
    "y_pred = abc.predict(X_test)\n",
    "\n",
    "# Calculate and display confusion matrix\n",
    "conf_matrix = confusion_matrix(y_test, y_pred)\n",
    "accuracy = accuracy_score(y_test, y_pred)\n",
    "\n",
    "sns.heatmap(conf_matrix, annot=True, cmap=\"Blues\", fmt=\"d\")\n",
    "plt.title(\"Confusion Matrix with test data\")\n",
    "plt.xlabel(\"Predicted Class\")\n",
    "plt.ylabel(\"True Class\")\n",
    "plt.show()\n",
    "\n",
    "### Callucating precison, recall and f1 score ###\n",
    "precision = precision_score(y_test, y_pred)\n",
    "recall = recall_score(y_test, y_pred)\n",
    "f1 = f1_score(y_test, y_pred)\n",
    "\n",
    "# Print the metrics\n",
    "print(f\"Accuracy: {accuracy}\")\n",
    "print(f\"Precision: {precision}\")\n",
    "print(f\"Recall: {recall}\")\n",
    "print(f\"F1 Score: {f1}\")"
   ]
  },
  {
   "attachments": {},
   "cell_type": "markdown",
   "id": "06567e84",
   "metadata": {},
   "source": [
    "### Results\n",
    "\n",
    "Thus, we conclude that neural network is outperforming the decision trees in this case. Here are some further findings:\n",
    "1. There is only limited information available in our features. Thus, many same features predict different output. The reason is that our features do not contain that extra piece of information to predict the correct outcome. \n",
    "2. The analysis tells that some information is hidden in the actual profile, like past university and course alignment etc. This is not possible to gather the data for all these and train a model on these.\n",
    "3. We will use the eights of neural networks and use the probability to tell how strong the visa chances for a particular candidate are."
   ]
  }
 ],
 "metadata": {
  "kernelspec": {
   "display_name": "NNs",
   "language": "python",
   "name": "python3"
  },
  "language_info": {
   "codemirror_mode": {
    "name": "ipython",
    "version": 3
   },
   "file_extension": ".py",
   "mimetype": "text/x-python",
   "name": "python",
   "nbconvert_exporter": "python",
   "pygments_lexer": "ipython3",
   "version": "3.10.9"
  }
 },
 "nbformat": 4,
 "nbformat_minor": 5
}
