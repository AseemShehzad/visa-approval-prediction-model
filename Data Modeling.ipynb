{
 "cells": [
  {
   "cell_type": "markdown",
   "id": "a0e220fd",
   "metadata": {},
   "source": [
    "# Prediction of Student Visa!\n",
    "\n"
   ]
  },
  {
   "attachments": {},
   "cell_type": "markdown",
   "id": "997dde59",
   "metadata": {},
   "source": [
    "## Pre_processing"
   ]
  },
  {
   "cell_type": "markdown",
   "id": "c7514769",
   "metadata": {},
   "source": [
    "In this notebook we will perform the following functions:\n",
    "* Import Data\n",
    "* Add Ranking of Universities\n",
    "** importing ranking database and cleaning it\n",
    "** creating a search_and_replace function\n",
    "** applying search_and_replace function to find the rankings of our training_data universities\n",
    "** add columns 'Matched_University' and 'Rank' in the training_data\n",
    "* Dropping Extra Columns\n",
    "* Handle Missing Values"
   ]
  },
  {
   "cell_type": "code",
   "execution_count": 368,
   "id": "5f14976f",
   "metadata": {},
   "outputs": [],
   "source": [
    "import pandas as pd\n",
    "import time\n",
    "import seaborn as sns\n",
    "import numpy as np\n",
    "import matplotlib.pyplot as plt\n",
    "import requests"
   ]
  },
  {
   "cell_type": "markdown",
   "id": "739089f9",
   "metadata": {},
   "source": [
    "First, we read the csv of the training data from the drive and then organize"
   ]
  },
  {
   "cell_type": "code",
   "execution_count": 369,
   "id": "a8bb09e9",
   "metadata": {},
   "outputs": [
    {
     "name": "stdout",
     "output_type": "stream",
     "text": [
      "(673, 10)\n"
     ]
    },
    {
     "data": {
      "text/html": [
       "<div>\n",
       "<style scoped>\n",
       "    .dataframe tbody tr th:only-of-type {\n",
       "        vertical-align: middle;\n",
       "    }\n",
       "\n",
       "    .dataframe tbody tr th {\n",
       "        vertical-align: top;\n",
       "    }\n",
       "\n",
       "    .dataframe thead th {\n",
       "        text-align: right;\n",
       "    }\n",
       "</style>\n",
       "<table border=\"1\" class=\"dataframe\">\n",
       "  <thead>\n",
       "    <tr style=\"text-align: right;\">\n",
       "      <th></th>\n",
       "      <th>Unnamed: 0</th>\n",
       "      <th>Id</th>\n",
       "      <th>Program</th>\n",
       "      <th>Degree Level</th>\n",
       "      <th>University</th>\n",
       "      <th>Sponsor</th>\n",
       "      <th>Scholarship</th>\n",
       "      <th>Relatives</th>\n",
       "      <th>Visa Attempt</th>\n",
       "      <th>Visa Result</th>\n",
       "    </tr>\n",
       "  </thead>\n",
       "  <tbody>\n",
       "    <tr>\n",
       "      <th>0</th>\n",
       "      <td>0</td>\n",
       "      <td>NaN</td>\n",
       "      <td>Criminal Justice</td>\n",
       "      <td>NaN</td>\n",
       "      <td>Western Michigan University</td>\n",
       "      <td>Uncle</td>\n",
       "      <td>NaN</td>\n",
       "      <td>Uncle</td>\n",
       "      <td>Second</td>\n",
       "      <td>Refused</td>\n",
       "    </tr>\n",
       "    <tr>\n",
       "      <th>1</th>\n",
       "      <td>1</td>\n",
       "      <td>NaN</td>\n",
       "      <td>NaN</td>\n",
       "      <td>NaN</td>\n",
       "      <td>NaN</td>\n",
       "      <td>NaN</td>\n",
       "      <td>NaN</td>\n",
       "      <td>NaN</td>\n",
       "      <td>Second (Refusal Category)</td>\n",
       "      <td>NaN</td>\n",
       "    </tr>\n",
       "    <tr>\n",
       "      <th>2</th>\n",
       "      <td>2</td>\n",
       "      <td>NaN</td>\n",
       "      <td>NaN</td>\n",
       "      <td>NaN</td>\n",
       "      <td>DePaul University</td>\n",
       "      <td>Father</td>\n",
       "      <td>Yes</td>\n",
       "      <td>NaN</td>\n",
       "      <td>Refused</td>\n",
       "      <td>NaN</td>\n",
       "    </tr>\n",
       "    <tr>\n",
       "      <th>3</th>\n",
       "      <td>3</td>\n",
       "      <td>NaN</td>\n",
       "      <td>PhD in Physics</td>\n",
       "      <td>PhD</td>\n",
       "      <td>Purdue University</td>\n",
       "      <td>NaN</td>\n",
       "      <td>Fully funded</td>\n",
       "      <td>No</td>\n",
       "      <td>First</td>\n",
       "      <td>Refused</td>\n",
       "    </tr>\n",
       "    <tr>\n",
       "      <th>4</th>\n",
       "      <td>4</td>\n",
       "      <td>NaN</td>\n",
       "      <td>Cyber Security</td>\n",
       "      <td>Masters</td>\n",
       "      <td>UD</td>\n",
       "      <td>Uncle</td>\n",
       "      <td>NaN</td>\n",
       "      <td>Uncle</td>\n",
       "      <td>First</td>\n",
       "      <td>Refused</td>\n",
       "    </tr>\n",
       "  </tbody>\n",
       "</table>\n",
       "</div>"
      ],
      "text/plain": [
       "   Unnamed: 0   Id           Program Degree Level  \\\n",
       "0           0  NaN  Criminal Justice          NaN   \n",
       "1           1  NaN               NaN          NaN   \n",
       "2           2  NaN               NaN          NaN   \n",
       "3           3  NaN    PhD in Physics          PhD   \n",
       "4           4  NaN    Cyber Security      Masters   \n",
       "\n",
       "                    University Sponsor   Scholarship Relatives  \\\n",
       "0  Western Michigan University   Uncle           NaN     Uncle   \n",
       "1                          NaN     NaN           NaN       NaN   \n",
       "2            DePaul University  Father           Yes       NaN   \n",
       "3            Purdue University     NaN  Fully funded        No   \n",
       "4                           UD   Uncle           NaN     Uncle   \n",
       "\n",
       "                Visa Attempt Visa Result  \n",
       "0                     Second     Refused  \n",
       "1  Second (Refusal Category)         NaN  \n",
       "2                    Refused         NaN  \n",
       "3                      First     Refused  \n",
       "4                      First     Refused  "
      ]
     },
     "execution_count": 369,
     "metadata": {},
     "output_type": "execute_result"
    }
   ],
   "source": [
    "df1 = pd.read_csv(r\"data\\training_data_new.csv\")\n",
    "df2 = pd.read_csv(r\"data\\training_data_visa.csv\")\n",
    "training_data = pd.concat([df1, df2], ignore_index=True)\n",
    "\n",
    "### Dropping duplicates\n",
    "training_data.drop_duplicates(inplace=True)\n",
    "\n",
    "print(training_data.shape)\n",
    "training_data.head()"
   ]
  },
  {
   "cell_type": "code",
   "execution_count": 370,
   "id": "3b28c4fb",
   "metadata": {},
   "outputs": [],
   "source": [
    "training_data.drop(['Unnamed: 0', \"Id\"], axis=1, inplace=True)\n",
    "training_data['Id'] = training_data.index"
   ]
  },
  {
   "cell_type": "markdown",
   "id": "e4b2d2ce",
   "metadata": {},
   "source": [
    "We have names of the universities. We can get the ranking of the university from internet and add it as a feature. An excel file was downloaded from the qs.com website which contains the university names and rankings.\n",
    "Now, our job is to get the ranking of each university in our training data list and add a university ranking column in our dataset."
   ]
  },
  {
   "cell_type": "code",
   "execution_count": 371,
   "id": "73c20ab3",
   "metadata": {},
   "outputs": [],
   "source": [
    "### import the ranking database ###\n",
    "\n",
    "uni_data_dw = pd.read_csv(r\"C:\\Users\\aseem\\Jupyter_Notebook\\Visa Prediction Model\\National Universities Rankings.csv\", encoding='ANSI')"
   ]
  },
  {
   "cell_type": "code",
   "execution_count": 372,
   "id": "5462601c",
   "metadata": {},
   "outputs": [],
   "source": [
    "### Create a data with only university name and its rank ###\n",
    "\n",
    "unis = uni_data_dw['Name']\n",
    "ranks = uni_data_dw['Rank']\n",
    "\n",
    "uni_ranks = pd.DataFrame({'University': unis, 'Rank': ranks})"
   ]
  },
  {
   "attachments": {},
   "cell_type": "markdown",
   "id": "7e9b9135",
   "metadata": {},
   "source": [
    "#### University Ranking Search Engine"
   ]
  },
  {
   "cell_type": "code",
   "execution_count": 373,
   "id": "63cc7ec9",
   "metadata": {},
   "outputs": [],
   "source": [
    "### Creating a Search_and_Replace function\n",
    "\n",
    "from fuzzywuzzy import fuzz\n",
    "def search_list(query, my_df, search_col_name, result_col_name):\n",
    "    \n",
    "    \n",
    "    # Define the threshold for the minimum score\n",
    "    threshold = 60\n",
    "\n",
    "    # Create an empty dictionary to store the results\n",
    "    results_dict = {}\n",
    "\n",
    "    # Loop through each string in the list\n",
    "    for string in my_df[search_col_name]:\n",
    "        # Calculate the Levenshtein distance between the search term and the current string\n",
    "        score = fuzz.token_sort_ratio(query, string)\n",
    "\n",
    "        # If the score is above the threshold, add the string and score to the dictionary\n",
    "        if score >= threshold:\n",
    "            results_dict[string] = score\n",
    "\n",
    "    # Sort the dictionary by score, in descending order\n",
    "    sorted_results = sorted(results_dict.items(), key=lambda x: x[1], reverse=True)\n",
    "    \n",
    "    if len(sorted_results) == 0:\n",
    "        ## In case searc result is not found, specficy the output here\n",
    "        ### print(\"Nothing found\")\n",
    "        result = \"N/A\"\n",
    "        query_final = \"N/A\"\n",
    "        \n",
    "    else:\n",
    "        # Search the index first element of sorted results through search col of my_df\n",
    "        query_final = sorted_results[0][0]\n",
    "        index = my_df[my_df[search_col_name].str.contains(query_final)].index\n",
    "\n",
    "        # Check if the index exists before returning the result\n",
    "        if not index.empty:\n",
    "            result = my_df[result_col_name][index[0]]\n",
    "        else:\n",
    "            result = \"N/A\"\n",
    "\n",
    "    return sorted_results, result, query_final"
   ]
  },
  {
   "cell_type": "code",
   "execution_count": 374,
   "id": "f298416a",
   "metadata": {},
   "outputs": [
    {
     "name": "stdout",
     "output_type": "stream",
     "text": [
      "The matched university and rank for name 'cincinnati university'  is ('University of Cincinnati', 142)\n"
     ]
    }
   ],
   "source": [
    "### test implementation of above function ###\n",
    "uni_rank, rank, query = search_list('cincinnati university', uni_ranks, 'University', 'Rank')\n",
    "print(f\"The matched university and rank for name 'cincinnati university'  is {query, rank}\")"
   ]
  },
  {
   "cell_type": "markdown",
   "id": "6848f172",
   "metadata": {},
   "source": [
    "To search the university names from the ranking csv, it requires to have 'university' in the university name for the search function to pick up the uiversity name."
   ]
  },
  {
   "cell_type": "code",
   "execution_count": 375,
   "id": "5f247f94",
   "metadata": {},
   "outputs": [],
   "source": [
    "### Adding \"University\" to the university name if institute or university is not found ###\n",
    "\n",
    "upd_uni = []\n",
    "for university in training_data['University']:\n",
    "    if isinstance(university, str):\n",
    "        if not any(\"university\" in word or \"institute\" in word or \"college\" in word for word in university.lower().split()):\n",
    "            upd_uni.append(university + \" University\")\n",
    "        else:\n",
    "            upd_uni.append(university)\n",
    "    else:\n",
    "        upd_uni.append(\"N/A\")\n",
    "\n",
    "training_data['University'] = upd_uni"
   ]
  },
  {
   "cell_type": "code",
   "execution_count": 376,
   "id": "9e1672b9",
   "metadata": {},
   "outputs": [
    {
     "data": {
      "text/html": [
       "<div>\n",
       "<style scoped>\n",
       "    .dataframe tbody tr th:only-of-type {\n",
       "        vertical-align: middle;\n",
       "    }\n",
       "\n",
       "    .dataframe tbody tr th {\n",
       "        vertical-align: top;\n",
       "    }\n",
       "\n",
       "    .dataframe thead th {\n",
       "        text-align: right;\n",
       "    }\n",
       "</style>\n",
       "<table border=\"1\" class=\"dataframe\">\n",
       "  <thead>\n",
       "    <tr style=\"text-align: right;\">\n",
       "      <th></th>\n",
       "      <th>Program</th>\n",
       "      <th>Degree Level</th>\n",
       "      <th>University</th>\n",
       "      <th>Sponsor</th>\n",
       "      <th>Scholarship</th>\n",
       "      <th>Relatives</th>\n",
       "      <th>Visa Attempt</th>\n",
       "      <th>Visa Result</th>\n",
       "      <th>Id</th>\n",
       "    </tr>\n",
       "  </thead>\n",
       "  <tbody>\n",
       "    <tr>\n",
       "      <th>0</th>\n",
       "      <td>Criminal Justice</td>\n",
       "      <td>NaN</td>\n",
       "      <td>Western Michigan University</td>\n",
       "      <td>Uncle</td>\n",
       "      <td>NaN</td>\n",
       "      <td>Uncle</td>\n",
       "      <td>Second</td>\n",
       "      <td>Refused</td>\n",
       "      <td>0</td>\n",
       "    </tr>\n",
       "    <tr>\n",
       "      <th>1</th>\n",
       "      <td>NaN</td>\n",
       "      <td>NaN</td>\n",
       "      <td>N/A</td>\n",
       "      <td>NaN</td>\n",
       "      <td>NaN</td>\n",
       "      <td>NaN</td>\n",
       "      <td>Second (Refusal Category)</td>\n",
       "      <td>NaN</td>\n",
       "      <td>1</td>\n",
       "    </tr>\n",
       "    <tr>\n",
       "      <th>2</th>\n",
       "      <td>NaN</td>\n",
       "      <td>NaN</td>\n",
       "      <td>DePaul University</td>\n",
       "      <td>Father</td>\n",
       "      <td>Yes</td>\n",
       "      <td>NaN</td>\n",
       "      <td>Refused</td>\n",
       "      <td>NaN</td>\n",
       "      <td>2</td>\n",
       "    </tr>\n",
       "    <tr>\n",
       "      <th>3</th>\n",
       "      <td>PhD in Physics</td>\n",
       "      <td>PhD</td>\n",
       "      <td>Purdue University</td>\n",
       "      <td>NaN</td>\n",
       "      <td>Fully funded</td>\n",
       "      <td>No</td>\n",
       "      <td>First</td>\n",
       "      <td>Refused</td>\n",
       "      <td>3</td>\n",
       "    </tr>\n",
       "    <tr>\n",
       "      <th>4</th>\n",
       "      <td>Cyber Security</td>\n",
       "      <td>Masters</td>\n",
       "      <td>UD University</td>\n",
       "      <td>Uncle</td>\n",
       "      <td>NaN</td>\n",
       "      <td>Uncle</td>\n",
       "      <td>First</td>\n",
       "      <td>Refused</td>\n",
       "      <td>4</td>\n",
       "    </tr>\n",
       "  </tbody>\n",
       "</table>\n",
       "</div>"
      ],
      "text/plain": [
       "            Program Degree Level                   University Sponsor  \\\n",
       "0  Criminal Justice          NaN  Western Michigan University   Uncle   \n",
       "1               NaN          NaN                          N/A     NaN   \n",
       "2               NaN          NaN            DePaul University  Father   \n",
       "3    PhD in Physics          PhD            Purdue University     NaN   \n",
       "4    Cyber Security      Masters                UD University   Uncle   \n",
       "\n",
       "    Scholarship Relatives               Visa Attempt Visa Result  Id  \n",
       "0           NaN     Uncle                     Second     Refused   0  \n",
       "1           NaN       NaN  Second (Refusal Category)         NaN   1  \n",
       "2           Yes       NaN                    Refused         NaN   2  \n",
       "3  Fully funded        No                      First     Refused   3  \n",
       "4           NaN     Uncle                      First     Refused   4  "
      ]
     },
     "execution_count": 376,
     "metadata": {},
     "output_type": "execute_result"
    }
   ],
   "source": [
    "training_data.head(5)"
   ]
  },
  {
   "cell_type": "markdown",
   "id": "4cb27b5b",
   "metadata": {},
   "source": [
    "Now we can see \"Harvard University\" instead of \"Harvard\"."
   ]
  },
  {
   "cell_type": "code",
   "execution_count": 377,
   "id": "a0c91e02",
   "metadata": {},
   "outputs": [],
   "source": [
    "### Search for the university name in the ranking database ###\n",
    "\n",
    "found_ranks = []\n",
    "found_uni_names = []\n",
    "for university in training_data['University']:\n",
    "    uni_rank, rank, query = search_list(university, uni_ranks, 'University', 'Rank')\n",
    "    found_ranks.append(rank)\n",
    "    found_uni_names.append(query)"
   ]
  },
  {
   "cell_type": "code",
   "execution_count": 378,
   "id": "fb1577f1",
   "metadata": {},
   "outputs": [
    {
     "data": {
      "text/html": [
       "<div>\n",
       "<style scoped>\n",
       "    .dataframe tbody tr th:only-of-type {\n",
       "        vertical-align: middle;\n",
       "    }\n",
       "\n",
       "    .dataframe tbody tr th {\n",
       "        vertical-align: top;\n",
       "    }\n",
       "\n",
       "    .dataframe thead th {\n",
       "        text-align: right;\n",
       "    }\n",
       "</style>\n",
       "<table border=\"1\" class=\"dataframe\">\n",
       "  <thead>\n",
       "    <tr style=\"text-align: right;\">\n",
       "      <th></th>\n",
       "      <th>Program</th>\n",
       "      <th>Degree Level</th>\n",
       "      <th>University</th>\n",
       "      <th>Sponsor</th>\n",
       "      <th>Scholarship</th>\n",
       "      <th>Relatives</th>\n",
       "      <th>Visa Attempt</th>\n",
       "      <th>Visa Result</th>\n",
       "      <th>Id</th>\n",
       "      <th>Matched_University</th>\n",
       "      <th>Rank</th>\n",
       "    </tr>\n",
       "  </thead>\n",
       "  <tbody>\n",
       "    <tr>\n",
       "      <th>0</th>\n",
       "      <td>Criminal Justice</td>\n",
       "      <td>NaN</td>\n",
       "      <td>Western Michigan University</td>\n",
       "      <td>Uncle</td>\n",
       "      <td>NaN</td>\n",
       "      <td>Uncle</td>\n",
       "      <td>Second</td>\n",
       "      <td>Refused</td>\n",
       "      <td>0</td>\n",
       "      <td>Western Michigan University</td>\n",
       "      <td>199</td>\n",
       "    </tr>\n",
       "    <tr>\n",
       "      <th>1</th>\n",
       "      <td>NaN</td>\n",
       "      <td>NaN</td>\n",
       "      <td>N/A</td>\n",
       "      <td>NaN</td>\n",
       "      <td>NaN</td>\n",
       "      <td>NaN</td>\n",
       "      <td>Second (Refusal Category)</td>\n",
       "      <td>NaN</td>\n",
       "      <td>1</td>\n",
       "      <td>N/A</td>\n",
       "      <td>N/A</td>\n",
       "    </tr>\n",
       "    <tr>\n",
       "      <th>2</th>\n",
       "      <td>NaN</td>\n",
       "      <td>NaN</td>\n",
       "      <td>DePaul University</td>\n",
       "      <td>Father</td>\n",
       "      <td>Yes</td>\n",
       "      <td>NaN</td>\n",
       "      <td>Refused</td>\n",
       "      <td>NaN</td>\n",
       "      <td>2</td>\n",
       "      <td>DePaul University</td>\n",
       "      <td>126</td>\n",
       "    </tr>\n",
       "    <tr>\n",
       "      <th>3</th>\n",
       "      <td>PhD in Physics</td>\n",
       "      <td>PhD</td>\n",
       "      <td>Purdue University</td>\n",
       "      <td>NaN</td>\n",
       "      <td>Fully funded</td>\n",
       "      <td>No</td>\n",
       "      <td>First</td>\n",
       "      <td>Refused</td>\n",
       "      <td>3</td>\n",
       "      <td>Purdue University</td>\n",
       "      <td>60</td>\n",
       "    </tr>\n",
       "    <tr>\n",
       "      <th>4</th>\n",
       "      <td>Cyber Security</td>\n",
       "      <td>Masters</td>\n",
       "      <td>UD University</td>\n",
       "      <td>Uncle</td>\n",
       "      <td>NaN</td>\n",
       "      <td>Uncle</td>\n",
       "      <td>First</td>\n",
       "      <td>Refused</td>\n",
       "      <td>4</td>\n",
       "      <td>UD University</td>\n",
       "      <td>112</td>\n",
       "    </tr>\n",
       "  </tbody>\n",
       "</table>\n",
       "</div>"
      ],
      "text/plain": [
       "            Program Degree Level                   University Sponsor  \\\n",
       "0  Criminal Justice          NaN  Western Michigan University   Uncle   \n",
       "1               NaN          NaN                          N/A     NaN   \n",
       "2               NaN          NaN            DePaul University  Father   \n",
       "3    PhD in Physics          PhD            Purdue University     NaN   \n",
       "4    Cyber Security      Masters                UD University   Uncle   \n",
       "\n",
       "    Scholarship Relatives               Visa Attempt Visa Result  Id  \\\n",
       "0           NaN     Uncle                     Second     Refused   0   \n",
       "1           NaN       NaN  Second (Refusal Category)         NaN   1   \n",
       "2           Yes       NaN                    Refused         NaN   2   \n",
       "3  Fully funded        No                      First     Refused   3   \n",
       "4           NaN     Uncle                      First     Refused   4   \n",
       "\n",
       "            Matched_University Rank  \n",
       "0  Western Michigan University  199  \n",
       "1                          N/A  N/A  \n",
       "2            DePaul University  126  \n",
       "3            Purdue University   60  \n",
       "4                UD University  112  "
      ]
     },
     "execution_count": 378,
     "metadata": {},
     "output_type": "execute_result"
    }
   ],
   "source": [
    "# add the new column 'rank' to the dataframe\n",
    "training_data = training_data.assign(Matched_University=found_uni_names, Rank = found_ranks)\n",
    "training_data.head(5)"
   ]
  },
  {
   "cell_type": "markdown",
   "id": "baec0df4",
   "metadata": {},
   "source": [
    "### Handle Missing Values"
   ]
  },
  {
   "cell_type": "code",
   "execution_count": 379,
   "id": "3f6da0a9",
   "metadata": {},
   "outputs": [
    {
     "name": "stdout",
     "output_type": "stream",
     "text": [
      "Program               153\n",
      "Degree Level          251\n",
      "University            199\n",
      "Sponsor               220\n",
      "Scholarship           496\n",
      "Relatives             463\n",
      "Visa Attempt           39\n",
      "Visa Result            61\n",
      "Id                      0\n",
      "Matched_University    208\n",
      "Rank                  208\n",
      "dtype: int64\n"
     ]
    }
   ],
   "source": [
    "training_data.replace(\"N/A\", np.nan, inplace = True)\n",
    "\n",
    "#  Identify missing values\n",
    "missing_values = training_data.isnull().sum()\n",
    "print(missing_values)\n",
    "\n",
    "# Replace missing values\n",
    "training_data.dropna(subset=['Visa Result'], inplace=True)\n",
    "training_data['Rank'].fillna(1000, inplace=True)\n",
    "training_data['University'].fillna((\"Unknown\"), inplace=True)\n",
    "training_data['Matched_University'].fillna((\"Unknown\"), inplace=True)\n",
    "training_data['Scholarship'].fillna((\"No\"), inplace=True)\n",
    "\n",
    "# For categorical columns, fill with mode\n",
    "training_data.fillna(training_data.mode().iloc[0], inplace=True)"
   ]
  },
  {
   "attachments": {},
   "cell_type": "markdown",
   "id": "c67857fd",
   "metadata": {},
   "source": [
    "### Standardizing the Data"
   ]
  },
  {
   "cell_type": "code",
   "execution_count": 380,
   "id": "988e0b7d",
   "metadata": {
    "scrolled": false
   },
   "outputs": [],
   "source": [
    "### function to standardize the dataframe column\n",
    "def standardize_strings(train_df ,search_list, replace_list, column, replacement):\n",
    "    # create a sample dataframe\n",
    "    df = train_df.copy()\n",
    "\n",
    "    for i in range(len(search_list)):\n",
    "        if len(search_list) != len(replace_list):\n",
    "            print(\"The length of search and replace lists are not equal!!!\")\n",
    "            continue\n",
    "        search_string = search_list[i].lower()\n",
    "        replace_string = replace_list[i]\n",
    "        df[column] = df[column].astype(str)\n",
    "        # loop hrough the column and replace the string if it's found\n",
    "        for index, row in df.iterrows():\n",
    "            if search_string in row[column].lower():\n",
    "                df.at[index, column] = replace_string\n",
    "    \n",
    "    not_found_list = df[~df[column].isin(list(map(str, replace_list)))][column].unique()\n",
    "    df[column] = df[column].apply(lambda x: replacement if x in not_found_list else x)\n",
    "\n",
    "\n",
    "    if len(not_found_list) > 0:\n",
    "        print(f\"The following values were not found in the 'replace_list': {not_found_list}\")\n",
    "    else:\n",
    "        print(f\"All values in {column} are standardized.\")\n",
    "        \n",
    "            \n",
    "    return df"
   ]
  },
  {
   "cell_type": "code",
   "execution_count": 381,
   "id": "f5bab1f4",
   "metadata": {},
   "outputs": [
    {
     "name": "stdout",
     "output_type": "stream",
     "text": [
      "The following values were not found in the 'replace_list': ['Transfer Student' 'Diploma' 'Associates' 4 'N/A (not mentioned)'\n",
      " 'F-1 Univsersity']\n"
     ]
    }
   ],
   "source": [
    "### Standardizing Degree Level\n",
    "column = 'Degree Level'\n",
    "degree_search_list = ['college', 'ms', 'master', 'grad', 'bachelor', 'bacca', 'Phd', 'bs', 'doctor']\n",
    "degree_replace_list = [1, 3, 3, 3, 2, 2, 4, 2, 4]\n",
    "\n",
    "train_data_std_1 = standardize_strings(training_data, degree_search_list, degree_replace_list, column, '3')"
   ]
  },
  {
   "cell_type": "code",
   "execution_count": 382,
   "id": "dbec9c01",
   "metadata": {},
   "outputs": [
    {
     "name": "stdout",
     "output_type": "stream",
     "text": [
      "The following values were not found in the 'replace_list': ['Uncle' 'Brother' 'Husband' 'SAME' 'Aunt' 'Landlord/Business Owner'\n",
      " 'Told' 'Partner' 'Uncle and Aunt' 'XYZ' 'Cousin' 'Applicant'\n",
      " 'Global Graduate  Program' 'Spouse' 'HEC' 'Yes' 'Xyz' 'Brother-in-law']\n"
     ]
    }
   ],
   "source": [
    "### Standardizing Sponsor\n",
    "\n",
    "column = 'Sponsor'\n",
    "sponsor_search_list = ['father', 'mother', 'parent', 'self', 'assistantship', 'fund', 'employer', 'supervisor', 'research', 'professor', 'loan']\n",
    "sponsor_replace_list = ['Family', 'Family', 'Family', 'Self', 'University', 'University', 'Employer', 'University', 'University', 'University', 'Loan']\n",
    "train_data_std_2 = standardize_strings(train_data_std_1, sponsor_search_list, sponsor_replace_list, column, 'Other')"
   ]
  },
  {
   "cell_type": "code",
   "execution_count": 383,
   "id": "fcc96dca",
   "metadata": {},
   "outputs": [
    {
     "name": "stdout",
     "output_type": "stream",
     "text": [
      "The following values were not found in the 'replace_list': ['Full' 'Out of state waiver' 'Partial' 'Full-tuition wavier and GRA'\n",
      " 'Automatic' '80' 'Financial Aid']\n"
     ]
    }
   ],
   "source": [
    "### Standardizing Scholarship\n",
    "\n",
    "column = 'Scholarship'\n",
    "sponsor_search_list = ['assistantship', '$', '%', 'No', 'k', 'USD', 'Yes', 'scholarship', 'fund', 'prof', 'merit']\n",
    "sponsor_replace_list = ['Assistantship', 'Yes', 'Yes', 'No', 'Yes', 'Yes', 'Yes','Yes','Assistantship', 'Assistantship', 'Yes']\n",
    "train_data_std_3 = standardize_strings(train_data_std_2, sponsor_search_list, sponsor_replace_list, column, 'No')\n"
   ]
  },
  {
   "cell_type": "code",
   "execution_count": 384,
   "id": "b840d03e",
   "metadata": {},
   "outputs": [
    {
     "name": "stdout",
     "output_type": "stream",
     "text": [
      "The following values were not found in the 'replace_list': ['Criminal Justice' 'Marketing' 'Biotechnology' 'IELI' 'Biology'\n",
      " 'Public Administration' 'Bachelor' 'Food Technology and Processing'\n",
      " 'Flight Training' 'Big Data Analysts' 'ECE' 'Environmental Studies'\n",
      " 'Transportation' 'PhD' 'Nursing'\n",
      " 'Cinematography and Film/Video Production' 'BBA' 'Undisclosed' 'Masters'\n",
      " 'Energy Systems' \"Master's\" 'Agriculture' 'Differential Equations'\n",
      " 'Electrical' 'MSBA' 'Professional Accountancy' 'Observership'\n",
      " 'English Course (Pathway)' 'MS in Java' 'Fashion Design and Merchandise'\n",
      " 'CIS' 'Film' 'M.A Higher Education in Academic Advising' 'Chemistry'\n",
      " 'Chemistry PhD' 'Training Session' 'Academic Intensive English'\n",
      " 'Doctorate' 'Conference' 'Cinematography and Film Production' 'SCM'\n",
      " 'F2 Visa' 'MS BA' 'Career Counseling' 'J-1 Visa' 'Bachelors' 'J1'\n",
      " 'Undergrad' 'Peace and Conflict Studies' 'MPA' 'Public Affairs'\n",
      " 'Criminal Justice and Law Enforcement Administration' 'F2' 'Master'\n",
      " 'Postdoctoral Research' 'Flight School' 'Law' 'Postdoc' 'Ph.D.'\n",
      " 'N/A (not mentioned)' 'Pathway' 'General Studies' 'Psychology PhD']\n"
     ]
    }
   ],
   "source": [
    "### Standardizing Scholarship\n",
    "\n",
    "column = 'Program'\n",
    "program_search_list = ['engineering', 'cs', 'Computer', 'information', 'it', 'Business', 'Health', 'Management', 'Science', 'Finance', 'MBA']\n",
    "program_replace_list = ['Engineering', 'CS', 'CS', 'CS', 'CS','Business', 'Health', 'Management', 'Science', 'Business', 'Business']\n",
    "train_data_std_4 = standardize_strings(train_data_std_3, program_search_list, program_replace_list, column, 'Other')\n"
   ]
  },
  {
   "cell_type": "code",
   "execution_count": 385,
   "id": "3b5fadc2",
   "metadata": {},
   "outputs": [
    {
     "name": "stdout",
     "output_type": "stream",
     "text": [
      "The following values were not found in the 'replace_list': [0]\n"
     ]
    }
   ],
   "source": [
    "### Standardizing Visa Result\n",
    "\n",
    "column = 'Visa Result'\n",
    "visa_search_list = ['221', 'processing', 'pending', 'N/A', 'Approved', 'Accepted', 'Refused', 'Rejected']\n",
    "visa_replace_list = [1, 1, 1, 0, 1, 1, 0, 0]\n",
    "train_data_std_5 = standardize_strings(train_data_std_4, visa_search_list, visa_replace_list, column, '0')"
   ]
  },
  {
   "cell_type": "code",
   "execution_count": 386,
   "id": "143ee6d2",
   "metadata": {},
   "outputs": [
    {
     "name": "stdout",
     "output_type": "stream",
     "text": [
      "The following values were not found in the 'replace_list': ['N/A s' 'None' 'Yes' 'No s' 'No relatives in US' 'No relatives in USA'\n",
      " 'Cousin' 'No other relative' 'Friend' 'No relatives in US s'\n",
      " 'Parents and younger sibling' 'Family in Saudi Arabia' 'F2'\n",
      " 'Extended family' 'Wife' 'Engaged to US Citizen']\n"
     ]
    }
   ],
   "source": [
    "### Standardizing Relatives\n",
    "\n",
    "column = 'Relatives'\n",
    "relatives_search_list = ['Husband', 'Spouse', 'Brother', 'Sister', 'Father', 'Uncle', 'Mother', 'Aunt' ]\n",
    "relatives_replace_list = ['Spouse', 'Spouse', 'Brother', 'Sister', 'Parents', 'No', 'Parents', 'No']\n",
    "train_data_std_6 = standardize_strings(train_data_std_5, relatives_search_list, relatives_replace_list, column, 'No')\n"
   ]
  },
  {
   "cell_type": "code",
   "execution_count": 387,
   "id": "d339e620",
   "metadata": {},
   "outputs": [
    {
     "name": "stdout",
     "output_type": "stream",
     "text": [
      "The following values were not found in the 'replace_list': ['Previous Visa Refusal' 'Previous Refusal' 4 'Renewal'\n",
      " 'N/A (not mentioned)']\n"
     ]
    }
   ],
   "source": [
    "### Standardizing Visa Attempt\n",
    "\n",
    "column = 'Visa Attempt'\n",
    "attempt_search_list = ['st', 'nd', 'rd', 'th']\n",
    "attempt_replace_list = [1, 2, 3, 4]\n",
    "train_data_std_7 = standardize_strings(train_data_std_6, attempt_search_list, attempt_replace_list, column, '2')"
   ]
  },
  {
   "cell_type": "code",
   "execution_count": 388,
   "id": "573386da",
   "metadata": {},
   "outputs": [
    {
     "name": "stderr",
     "output_type": "stream",
     "text": [
      "C:\\Users\\aseem\\AppData\\Local\\Temp\\ipykernel_13032\\2005043375.py:16: SettingWithCopyWarning: \n",
      "A value is trying to be set on a copy of a slice from a DataFrame.\n",
      "Try using .loc[row_indexer,col_indexer] = value instead\n",
      "\n",
      "See the caveats in the documentation: https://pandas.pydata.org/pandas-docs/stable/user_guide/indexing.html#returning-a-view-versus-a-copy\n",
      "  df['Rank'] = pd.cut(df['Rank'], bins=[0, 100, 200, 500, 2000], labels=[1, 2, 3, 4])\n"
     ]
    }
   ],
   "source": [
    "### Specifying the red_list universities ###\n",
    "\n",
    "red_list = ['Wichita State University, Indiana Institute of...', 'Webster University', 'Adelphi University' , 'UD University' , 'Troy University', 'Saint Louis University', 'Mercer University', 'Full Sail University', 'Gannon University', 'Maharishi International University', 'University of New Haven', 'Westcliff University', 'St. cloud state university', 'Bay Atlantic University', 'Salem University', 'UD University', 'Dayton Unviersity', 'Cleveland State University']\n",
    "\n",
    "### Creating a column for red_list universities ###\n",
    "### if university is in red_list, then 1, else 0 ###\n",
    "train_data_std_7['Red List'] = np.where(train_data_std_7['University'].isin(red_list), 1, 0)\n",
    "\n",
    "### Filtering Unknown Universities\n",
    "\n",
    "df = train_data_std_7[train_data_std_7['Matched_University'] != 'Unknown']\n",
    "\n",
    "# Binning Rank #\n",
    "### We will bin the rank into 4 categories: 1-100, 101-200, 201-500, 501- ###\n",
    "\n",
    "df['Rank'] = pd.cut(df['Rank'], bins=[0, 100, 200, 500, 2000], labels=[1, 2, 3, 4])\n"
   ]
  },
  {
   "cell_type": "code",
   "execution_count": 389,
   "id": "c87e8f9d",
   "metadata": {},
   "outputs": [
    {
     "name": "stdout",
     "output_type": "stream",
     "text": [
      "(431, 9)\n"
     ]
    },
    {
     "data": {
      "text/html": [
       "<div>\n",
       "<style scoped>\n",
       "    .dataframe tbody tr th:only-of-type {\n",
       "        vertical-align: middle;\n",
       "    }\n",
       "\n",
       "    .dataframe tbody tr th {\n",
       "        vertical-align: top;\n",
       "    }\n",
       "\n",
       "    .dataframe thead th {\n",
       "        text-align: right;\n",
       "    }\n",
       "</style>\n",
       "<table border=\"1\" class=\"dataframe\">\n",
       "  <thead>\n",
       "    <tr style=\"text-align: right;\">\n",
       "      <th></th>\n",
       "      <th>Program</th>\n",
       "      <th>Degree Level</th>\n",
       "      <th>Scholarship</th>\n",
       "      <th>Sponsor</th>\n",
       "      <th>Relatives</th>\n",
       "      <th>Rank</th>\n",
       "      <th>Red List</th>\n",
       "      <th>Visa Attempt</th>\n",
       "      <th>Visa Result</th>\n",
       "    </tr>\n",
       "  </thead>\n",
       "  <tbody>\n",
       "    <tr>\n",
       "      <th>0</th>\n",
       "      <td>Other</td>\n",
       "      <td>3</td>\n",
       "      <td>No</td>\n",
       "      <td>Other</td>\n",
       "      <td>No</td>\n",
       "      <td>2</td>\n",
       "      <td>0</td>\n",
       "      <td>2</td>\n",
       "      <td>0</td>\n",
       "    </tr>\n",
       "    <tr>\n",
       "      <th>3</th>\n",
       "      <td>CS</td>\n",
       "      <td>4</td>\n",
       "      <td>Assistantship</td>\n",
       "      <td>Family</td>\n",
       "      <td>No</td>\n",
       "      <td>1</td>\n",
       "      <td>0</td>\n",
       "      <td>1</td>\n",
       "      <td>0</td>\n",
       "    </tr>\n",
       "    <tr>\n",
       "      <th>4</th>\n",
       "      <td>CS</td>\n",
       "      <td>3</td>\n",
       "      <td>No</td>\n",
       "      <td>Other</td>\n",
       "      <td>No</td>\n",
       "      <td>2</td>\n",
       "      <td>1</td>\n",
       "      <td>1</td>\n",
       "      <td>0</td>\n",
       "    </tr>\n",
       "    <tr>\n",
       "      <th>5</th>\n",
       "      <td>CS</td>\n",
       "      <td>3</td>\n",
       "      <td>No</td>\n",
       "      <td>Family</td>\n",
       "      <td>Brother</td>\n",
       "      <td>1</td>\n",
       "      <td>0</td>\n",
       "      <td>2</td>\n",
       "      <td>0</td>\n",
       "    </tr>\n",
       "    <tr>\n",
       "      <th>6</th>\n",
       "      <td>Business</td>\n",
       "      <td>3</td>\n",
       "      <td>No</td>\n",
       "      <td>Family</td>\n",
       "      <td>Parents</td>\n",
       "      <td>2</td>\n",
       "      <td>0</td>\n",
       "      <td>3</td>\n",
       "      <td>0</td>\n",
       "    </tr>\n",
       "  </tbody>\n",
       "</table>\n",
       "</div>"
      ],
      "text/plain": [
       "    Program Degree Level    Scholarship Sponsor Relatives Rank  Red List  \\\n",
       "0     Other            3             No   Other        No    2         0   \n",
       "3        CS            4  Assistantship  Family        No    1         0   \n",
       "4        CS            3             No   Other        No    2         1   \n",
       "5        CS            3             No  Family   Brother    1         0   \n",
       "6  Business            3             No  Family   Parents    2         0   \n",
       "\n",
       "  Visa Attempt Visa Result  \n",
       "0            2           0  \n",
       "3            1           0  \n",
       "4            1           0  \n",
       "5            2           0  \n",
       "6            3           0  "
      ]
     },
     "execution_count": 389,
     "metadata": {},
     "output_type": "execute_result"
    }
   ],
   "source": [
    "clean_training_data = df.loc[:, ['Program', 'Degree Level', 'Scholarship','Sponsor', 'Relatives', 'Rank', 'Red List', 'Visa Attempt', 'Visa Result']]\n",
    "clean_target_data = df[['Visa Result']].astype(int)\n",
    "print(clean_training_data.shape)\n",
    "(clean_training_data.head())"
   ]
  },
  {
   "attachments": {},
   "cell_type": "markdown",
   "id": "53b35689",
   "metadata": {},
   "source": [
    "## Exploratory Data Analysis"
   ]
  },
  {
   "cell_type": "code",
   "execution_count": 390,
   "id": "482c99f5",
   "metadata": {},
   "outputs": [],
   "source": [
    "### Defining Colors\n",
    "red = (231/256, 99/256, 118/256)\n",
    "green = (166/256, 211/256, 160/256)\n",
    "blue = (107/256, 127/256, 215/256)"
   ]
  },
  {
   "cell_type": "code",
   "execution_count": 391,
   "id": "2c1e3358",
   "metadata": {},
   "outputs": [
    {
     "data": {
      "image/png": "[encoded data removed]",
      "text/plain": [
       "<Figure size 640x480 with 1 Axes>"
      ]
     },
     "metadata": {},
     "output_type": "display_data"
    }
   ],
   "source": [
    "# Group the data by category and visa result, and calculate the counts\n",
    "counts = train_data_std_7.groupby('Visa Attempt')['Visa Result'].value_counts().unstack()\n",
    "\n",
    "# Create bar plot\n",
    "counts.plot.bar(rot=0, color= [red,green])\n",
    "\n",
    "# Add labels and title\n",
    "plt.xlabel(\"Visa Attempt\")\n",
    "plt.ylabel(\"Count\")\n",
    "plt.title(\"Visa Approval Status by Program\")\n",
    "\n",
    "# Show the chart\n",
    "plt.show()"
   ]
  },
  {
   "cell_type": "code",
   "execution_count": 392,
   "id": "4b9eecf3",
   "metadata": {},
   "outputs": [
    {
     "data": {
      "image/png": "[encoded data removed]",
      "text/plain": [
       "<Figure size 640x480 with 1 Axes>"
      ]
     },
     "metadata": {},
     "output_type": "display_data"
    }
   ],
   "source": [
    "# Group the data by category and visa result, and calculate the counts\n",
    "counts = train_data_std_7.groupby('Program')['Visa Result'].value_counts().unstack()\n",
    "\n",
    "# Create bar plot\n",
    "counts.plot.bar(rot=0, color= [red,green])\n",
    "\n",
    "# Add labels and title\n",
    "plt.xlabel(\"Program\")\n",
    "plt.ylabel(\"Count\")\n",
    "plt.title(\"Visa Approval Status by Program\")\n",
    "\n",
    "# Show the chart\n",
    "plt.show()"
   ]
  },
  {
   "cell_type": "code",
   "execution_count": 393,
   "id": "5503e466",
   "metadata": {},
   "outputs": [
    {
     "data": {
      "image/png": "[encoded data removed]",
      "text/plain": [
       "<Figure size 640x480 with 1 Axes>"
      ]
     },
     "metadata": {},
     "output_type": "display_data"
    }
   ],
   "source": [
    "# Group the data by category and visa result, and calculate the counts\n",
    "counts = clean_training_data.groupby('Degree Level')['Visa Result'].value_counts().unstack()\n",
    "\n",
    "# Create bar plot with custom colors\n",
    "counts.plot.bar(color=[red, green])\n",
    "\n",
    "\n",
    "# Add labels and title\n",
    "plt.xlabel(\"Degree Level\")\n",
    "plt.ylabel(\"Count\")\n",
    "plt.title(\"Visa Approval Status by Degree Level\")\n",
    "\n",
    "# Show the chart\n",
    "plt.show()"
   ]
  },
  {
   "cell_type": "code",
   "execution_count": 394,
   "id": "d0600675",
   "metadata": {},
   "outputs": [
    {
     "data": {
      "image/png": "[encoded data removed]",
      "text/plain": [
       "<Figure size 640x480 with 1 Axes>"
      ]
     },
     "metadata": {},
     "output_type": "display_data"
    }
   ],
   "source": [
    "# Group the data by category and visa result, and calculate the counts\n",
    "counts = clean_training_data.groupby('Scholarship')['Visa Result'].value_counts().unstack()\n",
    "\n",
    "# Create bar plot with custom colors\n",
    "counts.plot.bar(color=[red, green])\n",
    "\n",
    "# Add labels and title\n",
    "plt.xlabel(\"Scholarship\")\n",
    "plt.ylabel(\"Count\")\n",
    "plt.title(\"Visa Approval Status by Scholarship\")\n",
    "plt.xticks(rotation=0)\n",
    "# Show the chart\n",
    "plt.show()\n"
   ]
  },
  {
   "cell_type": "code",
   "execution_count": 395,
   "id": "86912a19",
   "metadata": {},
   "outputs": [
    {
     "data": {
      "image/png": "[encoded data removed]",
      "text/plain": [
       "<Figure size 640x480 with 1 Axes>"
      ]
     },
     "metadata": {},
     "output_type": "display_data"
    }
   ],
   "source": [
    "# Group the data by category and visa result, and calculate the counts\n",
    "counts = clean_training_data.groupby('Sponsor')['Visa Result'].value_counts().unstack()\n",
    "\n",
    "# Create bar plot with custom colors\n",
    "counts.plot.bar(color=[red, green])\n",
    "\n",
    "# Add labels and title\n",
    "plt.xlabel(\"Sponsor\")\n",
    "plt.ylabel(\"Count\")\n",
    "plt.title(\"Visa Approval Status by Sponsor\")\n",
    "plt.xticks(rotation=0)\n",
    "# Show the chart\n",
    "plt.show()"
   ]
  },
  {
   "cell_type": "code",
   "execution_count": 396,
   "id": "f9b7b305",
   "metadata": {},
   "outputs": [
    {
     "data": {
      "image/png": "[encoded data removed]",
      "text/plain": [
       "<Figure size 640x480 with 1 Axes>"
      ]
     },
     "metadata": {},
     "output_type": "display_data"
    }
   ],
   "source": [
    "# Group the data by category and visa result, and calculate the counts\n",
    "counts = clean_training_data.groupby('Relatives')['Visa Result'].value_counts().unstack()\n",
    "\n",
    "# Create bar plot with custom colors\n",
    "counts.plot.bar(color=[red, green])\n",
    "\n",
    "# Add labels and title\n",
    "plt.xlabel(\"Relatives\")\n",
    "plt.ylabel(\"Count\")\n",
    "plt.title(\"Visa Approval Status by Relatives\")\n",
    "plt.xticks(rotation=0)\n",
    "# Show the chart\n",
    "plt.show()"
   ]
  },
  {
   "cell_type": "code",
   "execution_count": 397,
   "id": "1ebb3099",
   "metadata": {},
   "outputs": [
    {
     "data": {
      "image/png": "[encoded data removed]",
      "text/plain": [
       "<Figure size 640x480 with 1 Axes>"
      ]
     },
     "metadata": {},
     "output_type": "display_data"
    }
   ],
   "source": [
    "# Group the data by category and visa result, and calculate the counts\n",
    "counts = clean_training_data.groupby('Red List')['Visa Result'].value_counts().unstack()\n",
    "\n",
    "# Create bar plot with custom colors\n",
    "counts.plot.bar(color=[red, green])\n",
    "\n",
    "# Add labels and title\n",
    "plt.xlabel(\"Red List\")\n",
    "plt.ylabel(\"Count\")\n",
    "plt.title(\"Visa Approval Status by Red List\")\n",
    "plt.xticks(rotation=0)\n",
    "# Show the chart\n",
    "plt.show()"
   ]
  },
  {
   "cell_type": "code",
   "execution_count": 398,
   "id": "2ad89a6c",
   "metadata": {},
   "outputs": [],
   "source": [
    "### Breaking Down Data into Numeric and Categorical Features ###\n",
    "\n",
    "numeric_columns = ['Visa Attempt', 'Degree Level', 'Rank', 'Red List']\n",
    "cat_columns = ['Program',   'Scholarship', 'Relatives']\n",
    "\n",
    "### Applying One-Hot Transformation to Categorical Features ###\n",
    "\n",
    "numeric_train = clean_training_data.loc[:, numeric_columns]\n",
    "oh_cat_train =pd.get_dummies(clean_training_data[cat_columns], columns=cat_columns).astype(int)\n",
    "all_features_train = pd.concat([numeric_train, oh_cat_train], axis=1).astype(int)"
   ]
  },
  {
   "attachments": {},
   "cell_type": "markdown",
   "id": "66bd801e",
   "metadata": {},
   "source": [
    "# Machine Learning Model"
   ]
  },
  {
   "cell_type": "code",
   "execution_count": 399,
   "id": "ef575e5a",
   "metadata": {},
   "outputs": [],
   "source": [
    "from sklearn.model_selection import train_test_split\n",
    "from sklearn import preprocessing\n",
    "from sklearn.metrics import f1_score, accuracy_score, precision_score, recall_score, confusion_matrix\n",
    "\n",
    "X_train, X_test, y_train, y_test = train_test_split(all_features_train, clean_target_data, test_size = 0.3, random_state=27)"
   ]
  },
  {
   "cell_type": "code",
   "execution_count": 400,
   "id": "72da0b18",
   "metadata": {},
   "outputs": [],
   "source": [
    "import tensorflow as tf\n",
    "import pandas as pd\n",
    "from sklearn.preprocessing import StandardScaler\n",
    "from sklearn.metrics import confusion_matrix, accuracy_score, precision_score\n",
    "import seaborn as sns\n",
    "import matplotlib.pyplot as plt\n",
    "\n",
    "# fix the randomization\n",
    "np.random.seed(32)\n",
    "tf.random.set_seed(32)\n",
    "\n",
    "# Scale the data\n",
    "scaler = StandardScaler()\n",
    "X_train_scaled = scaler.fit_transform(X_train)\n",
    "X_test_scaled = scaler.transform(X_test)\n",
    "\n",
    "# Convert the data to TensorFlow tensors\n",
    "X_train_scaled = tf.convert_to_tensor(X_train_scaled, dtype=tf.float32)\n",
    "y_train_scaled = tf.convert_to_tensor(y_train, dtype=tf.float32)\n",
    "X_test_scaled = tf.convert_to_tensor(X_test_scaled, dtype=tf.float32)\n",
    "y_test_scaled = tf.convert_to_tensor(y_test, dtype=tf.float32)"
   ]
  },
  {
   "cell_type": "code",
   "execution_count": 401,
   "id": "501ea64e",
   "metadata": {},
   "outputs": [],
   "source": [
    "lamda = 0.001\n",
    "\n",
    "# Define the model architecture\n",
    "model = tf.keras.Sequential([\n",
    "    tf.keras.layers.Dense(50, activation='relu', kernel_regularizer=tf.keras.regularizers.l2(lamda), input_dim=X_train.shape[1]),\n",
    "    tf.keras.layers.Dense(20, activation='sigmoid', kernel_regularizer=tf.keras.regularizers.l2(lamda)),\n",
    "    tf.keras.layers.Dense(50, activation='sigmoid', kernel_regularizer=tf.keras.regularizers.l2(lamda)),\n",
    "    tf.keras.layers.Dense(20, activation='sigmoid', kernel_regularizer=tf.keras.regularizers.l2(lamda)),\n",
    "    tf.keras.layers.Dense(1, activation='sigmoid')\n",
    "])\n",
    "\n",
    "# Compile the model\n",
    "model.compile(loss='binary_crossentropy', optimizer='adam', metrics=['accuracy'])\n",
    "\n",
    "# Train the model\n",
    "model.fit(X_train_scaled, y_train_scaled, epochs=80, batch_size=32, validation_data=(X_test_scaled, y_test_scaled), verbose=0)\n",
    "\n",
    "# Make predictions on the training set\n",
    "y_pred_train = model.predict(X_train_scaled)\n"
   ]
  },
  {
   "cell_type": "code",
   "execution_count": 402,
   "id": "509668f5",
   "metadata": {},
   "outputs": [
    {
     "data": {
      "image/png": "[encoded data removed]",
      "text/plain": [
       "<Figure size 640x480 with 1 Axes>"
      ]
     },
     "metadata": {},
     "output_type": "display_data"
    }
   ],
   "source": [
    "# Define the bin edges.\n",
    "bins = np.arange(0, 1.1, 0.1)\n",
    "\n",
    "# Plot a histogram.\n",
    "plt.hist(y_pred_train, bins=bins, edgecolor='black')\n",
    "\n",
    "# Set the labels and title.\n",
    "plt.xlabel('Value')\n",
    "plt.ylabel('Frequency')\n",
    "plt.title('Distribution of Training prediction')\n",
    "\n",
    "# Show the plot.\n",
    "plt.show()"
   ]
  },
  {
   "cell_type": "code",
   "execution_count": 404,
   "id": "3c15ede7",
   "metadata": {},
   "outputs": [
    {
     "data": {
      "image/png": "[encoded data removed]",
      "text/plain": [
       "<Figure size 640x480 with 2 Axes>"
      ]
     },
     "metadata": {},
     "output_type": "display_data"
    },
    {
     "data": {
      "image/png": "[encoded data removed]",
      "text/plain": [
       "<Figure size 640x480 with 2 Axes>"
      ]
     },
     "metadata": {},
     "output_type": "display_data"
    },
    {
     "name": "stdout",
     "output_type": "stream",
     "text": [
      "The accuracy with training data is 0.8006644518272426\n",
      "The accuracy with test data is 0.7846153846153846\n",
      "Precision: 0.7916666666666666\n",
      "Recall: 0.6785714285714286\n",
      "F1 Score: 0.7307692307692307\n"
     ]
    }
   ],
   "source": [
    "y_pred_train_bin = y_pred_train > .5\n",
    "conf_matrix_train = confusion_matrix(y_train, y_pred_train_bin)\n",
    "accuracy_train = accuracy_score(y_train, y_pred_train_bin)\n",
    "\n",
    "y_pred_test = model.predict(X_test_scaled)\n",
    "y_pred_test_bin = y_pred_test > .5\n",
    "conf_matrix_test = confusion_matrix(y_test, y_pred_test_bin)\n",
    "accuracy_test = accuracy_score(y_test, y_pred_test_bin)\n",
    "\n",
    "sns.heatmap(conf_matrix_train, annot=True, cmap=\"Blues\", fmt=\"d\")\n",
    "plt.title(\"Confusion Matrix with training data\")\n",
    "plt.xlabel(\"Predicted Class\")\n",
    "plt.ylabel(\"True Class\")\n",
    "plt.show()\n",
    "\n",
    "sns.heatmap(conf_matrix_test, annot=True, cmap=\"Blues\", fmt=\"d\")\n",
    "plt.title(\"Confusion Matrix with test data\")\n",
    "plt.xlabel(\"Predicted Class\")\n",
    "plt.ylabel(\"True Class\")\n",
    "plt.show()\n",
    "\n",
    "print(f\"The accuracy with training data is {accuracy_train}\")\n",
    "print(f\"The accuracy with test data is {accuracy_test}\")\n",
    "\n",
    "### calculating the precision, recall and f1 score ###\n",
    "precision_train = precision_score(y_train, y_pred_train_bin)\n",
    "recall_train = recall_score(y_train, y_pred_train_bin)\n",
    "f1_train = f1_score(y_train, y_pred_train_bin)\n",
    "\n",
    "precision_test = precision_score(y_test, y_pred_test_bin)\n",
    "recall_test = recall_score(y_test, y_pred_test_bin)\n",
    "f1_test = f1_score(y_test, y_pred_test_bin)\n",
    "\n",
    "### printing the precision, recall and f1 score for test set\n",
    "print(f\"Precision: {precision_test}\")\n",
    "print(f\"Recall: {recall_test}\")\n",
    "print(f\"F1 Score: {f1_test}\")\n"
   ]
  },
  {
   "attachments": {},
   "cell_type": "markdown",
   "id": "4d79e59c",
   "metadata": {},
   "source": [
    "### Random Forest"
   ]
  },
  {
   "cell_type": "code",
   "execution_count": 407,
   "id": "9af98ead",
   "metadata": {},
   "outputs": [
    {
     "name": "stderr",
     "output_type": "stream",
     "text": [
      "C:\\Users\\aseem\\AppData\\Roaming\\Python\\Python39\\site-packages\\sklearn\\utils\\validation.py:1143: DataConversionWarning: A column-vector y was passed when a 1d array was expected. Please change the shape of y to (n_samples, ), for example using ravel().\n",
      "  y = column_or_1d(y, warn=True)\n"
     ]
    },
    {
     "data": {
      "image/png": "[encoded data removed]",
      "text/plain": [
       "<Figure size 640x480 with 2 Axes>"
      ]
     },
     "metadata": {},
     "output_type": "display_data"
    },
    {
     "name": "stdout",
     "output_type": "stream",
     "text": [
      "Accuracy: 0.7153846153846154\n",
      "Precision: 0.6792452830188679\n",
      "Recall: 0.6428571428571429\n",
      "F1 Score: 0.6605504587155964\n"
     ]
    }
   ],
   "source": [
    "### applying random forest classifier ###\n",
    "from sklearn.ensemble import RandomForestClassifier\n",
    "from sklearn.ensemble import AdaBoostClassifier\n",
    "from sklearn.ensemble import GradientBoostingClassifier\n",
    "\n",
    "# Create the model with 100 trees\n",
    "abc = AdaBoostClassifier(n_estimators=500, random_state=27, learning_rate=0.1)\n",
    "\n",
    "# Train the model on training data\n",
    "abc.fit(X_train, y_train)\n",
    "\n",
    "# Use the forest's predict method on the test data\n",
    "y_pred = abc.predict(X_test)\n",
    "\n",
    "# Calculate and display confusion matrix\n",
    "conf_matrix = confusion_matrix(y_test, y_pred)\n",
    "accuracy = accuracy_score(y_test, y_pred)\n",
    "\n",
    "sns.heatmap(conf_matrix, annot=True, cmap=\"Blues\", fmt=\"d\")\n",
    "plt.title(\"Confusion Matrix with test data\")\n",
    "plt.xlabel(\"Predicted Class\")\n",
    "plt.ylabel(\"True Class\")\n",
    "plt.show()\n",
    "\n",
    "### Callucating precison, recall and f1 score ###\n",
    "precision = precision_score(y_test, y_pred)\n",
    "recall = recall_score(y_test, y_pred)\n",
    "f1 = f1_score(y_test, y_pred)\n",
    "\n",
    "# Print the metrics\n",
    "print(f\"Accuracy: {accuracy}\")\n",
    "print(f\"Precision: {precision}\")\n",
    "print(f\"Recall: {recall}\")\n",
    "print(f\"F1 Score: {f1}\")"
   ]
  },
  {
   "attachments": {},
   "cell_type": "markdown",
   "id": "06567e84",
   "metadata": {},
   "source": [
    "### Results\n",
    "\n",
    "Thus, we conclude that neural network is outperforming the decision trees in this case. Here are some further findings:\n",
    "1. There is only limited information available in our features. Thus, many same features predict different output. The reason is that our features do not contain that extra piece of information to predict the correct outcome. \n",
    "2. The analysis tells that some information is hidden in the actual profile, like past university and course alignment etc. This is not possible to gather the data for all these and train a model on these.\n",
    "3. We will use the eights of neural networks and use the probability to tell how strong the visa chances for a particular candidate are."
   ]
  },
  {
   "cell_type": "code",
   "execution_count": null,
   "id": "4f0a5303",
   "metadata": {},
   "outputs": [],
   "source": []
  }
 ],
 "metadata": {
  "kernelspec": {
   "display_name": "TensorFlow Env",
   "language": "python",
   "name": "dp2env"
  },
  "language_info": {
   "codemirror_mode": {
    "name": "ipython",
    "version": 3
   },
   "file_extension": ".py",
   "mimetype": "text/x-python",
   "name": "python",
   "nbconvert_exporter": "python",
   "pygments_lexer": "ipython3",
   "version": "3.9.16"
  }
 },
 "nbformat": 4,
 "nbformat_minor": 5
}
